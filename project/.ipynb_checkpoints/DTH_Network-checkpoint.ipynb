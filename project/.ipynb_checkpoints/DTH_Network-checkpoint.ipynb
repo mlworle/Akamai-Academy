{
 "cells": [
  {
   "cell_type": "markdown",
   "metadata": {},
   "source": [
    "# Akamai Technical Academy Capstone Project"
   ]
  },
  {
   "cell_type": "markdown",
   "metadata": {},
   "source": [
    "#### This is an extension of the bash program for the team project. We are instructed to find all users online and offline at one time. We are advised to user SHell scripting and Python.  Testing and exploration will be done here, rather than the command line  in order to preserve the process. Mara Worle, lead architect 4/27/16"
   ]
  },
  {
   "cell_type": "code",
   "execution_count": 1,
   "metadata": {
    "collapsed": false
   },
   "outputs": [],
   "source": [
    "import os,re\n",
    "import numpy\n",
    "import pandas as pd"
   ]
  },
  {
   "cell_type": "code",
   "execution_count": null,
   "metadata": {
    "collapsed": false
   },
   "outputs": [],
   "source": [
    "os.getcwd()"
   ]
  },
  {
   "cell_type": "code",
   "execution_count": 3,
   "metadata": {
    "collapsed": false
   },
   "outputs": [],
   "source": [
    "os.system(\"w | awk '/mragy/ {print $1;}'\")"
   ]
  },
  {
   "cell_type": "code",
   "execution_count": null,
   "metadata": {
    "collapsed": false
   },
   "outputs": [],
   "source": [
    "string = raw_input(\"Please enter the system information: \\n\")  "
   ]
  },
  {
   "cell_type": "code",
   "execution_count": 27,
   "metadata": {
    "collapsed": false
   },
   "outputs": [],
   "source": [
    " info = string.split(\",\")"
   ]
  },
  {
   "cell_type": "raw",
   "metadata": {},
   "source": [
    "Now its time to set up the python enviroment on my system.\n",
    "That means creating a new virtualenv bubble.\n",
    "$ mkdir <newproject>\n",
    "$ cd <newproject>\n",
    "$ virtualenv venv \n",
    "  # get installation notice here\n",
    "$ . venv/bin/activate \n",
    "  # once the venv is activated look for \n",
    "  # (venv)path $ \n",
    "  # type away\n",
    "$ deactivate\n",
    "  # when done"
   ]
  },
  {
   "cell_type": "code",
   "execution_count": 35,
   "metadata": {
    "collapsed": true
   },
   "outputs": [
    {
     "data": {
      "text/plain": [
       "32512"
      ]
     },
     "execution_count": 35,
     "metadata": {},
     "output_type": "execute_result"
    }
   ],
   "source": [
    "os.system(\"/home/mragy/AkamaiAcademy/project/virtualenv --version\") "
   ]
  },
  {
   "cell_type": "code",
   "execution_count": 19,
   "metadata": {
    "collapsed": true
   },
   "outputs": [
    {
     "name": "stdout",
     "output_type": "stream",
     "text": [
      "Please enter the information: mragy,:0\n"
     ]
    },
    {
     "data": {
      "text/plain": [
       "['mragy,:0']"
      ]
     },
     "execution_count": 19,
     "metadata": {},
     "output_type": "execute_result"
    }
   ],
   "source": [
    "info= raw_input(\"Please enter the information: \")\n",
    "info.split(\" \")\n"
   ]
  },
  {
   "cell_type": "code",
   "execution_count": 26,
   "metadata": {
    "collapsed": false
   },
   "outputs": [],
   "source": [
    "for i in info:\n",
    "    if re.match('^[a-zA-Z0-9_-]{3,15}$',i):\n",
    "        string = \"w | awk \\'/%s/ {print \\'%s is online.\\';}\\' > /home/mragy/AkamaiAcademy/project/online\" %(name, name)    \n",
    "        online = os.system(string)"
   ]
  },
  {
   "cell_type": "code",
   "execution_count": 6,
   "metadata": {
    "collapsed": true
   },
   "outputs": [
    {
     "data": {
      "text/plain": [
       "['docs',\n",
       " 'check_status.py',\n",
       " 'online',\n",
       " 'check_sys.sh',\n",
       " 'shared_functions.py',\n",
       " '.ipynb_checkpoints',\n",
       " 'data',\n",
       " 'diff_file',\n",
       " 'venv',\n",
       " 'DTH_Network.ipynb']"
      ]
     },
     "execution_count": 6,
     "metadata": {},
     "output_type": "execute_result"
    }
   ],
   "source": [
    "os.listdir('/home/mragy/AkamaiAcademy/project/')"
   ]
  },
  {
   "cell_type": "code",
   "execution_count": 8,
   "metadata": {
    "collapsed": false
   },
   "outputs": [],
   "source": [
    "os.system(\"cat online\") \n",
    "# in iPython Notebook this will print to the console\n",
    "# assigning os.system() to a variable still prints to the console\n",
    "    "
   ]
  },
  {
   "cell_type": "code",
   "execution_count": 28,
   "metadata": {
    "collapsed": false
   },
   "outputs": [],
   "source": [
    "# try putting all the valid information in an array of arrays\n",
    "# compare to dictionary\n",
    "valid_array = []\n",
    "names=['one','two','three']\n",
    "uids=['mguser1','mguser2','mguser3','mguser4']\n",
    "terms=['tty1','tty2']\n",
    "ips=[]\n",
    "valid_array.append(names)"
   ]
  },
  {
   "cell_type": "code",
   "execution_count": 29,
   "metadata": {
    "collapsed": false
   },
   "outputs": [],
   "source": [
    "valid_array.append(uids)"
   ]
  },
  {
   "cell_type": "code",
   "execution_count": 30,
   "metadata": {
    "collapsed": false
   },
   "outputs": [],
   "source": [
    "valid_array.append(terms)\n",
    "valid_array.append(ips)"
   ]
  },
  {
   "cell_type": "code",
   "execution_count": 31,
   "metadata": {
    "collapsed": true
   },
   "outputs": [
    {
     "data": {
      "text/plain": [
       "'mguser2'"
      ]
     },
     "execution_count": 31,
     "metadata": {},
     "output_type": "execute_result"
    }
   ],
   "source": [
    "# if i want to get mguser2\n",
    "valid_array[1][1]"
   ]
  },
  {
   "cell_type": "code",
   "execution_count": 32,
   "metadata": {
    "collapsed": true
   },
   "outputs": [
    {
     "data": {
      "text/plain": [
       "4"
      ]
     },
     "execution_count": 32,
     "metadata": {},
     "output_type": "execute_result"
    }
   ],
   "source": [
    "len(valid_array)"
   ]
  },
  {
   "cell_type": "code",
   "execution_count": 33,
   "metadata": {
    "collapsed": true
   },
   "outputs": [
    {
     "data": {
      "text/plain": [
       "0"
      ]
     },
     "execution_count": 33,
     "metadata": {},
     "output_type": "execute_result"
    }
   ],
   "source": [
    "len(valid_array[3])"
   ]
  },
  {
   "cell_type": "code",
   "execution_count": 34,
   "metadata": {
    "collapsed": false
   },
   "outputs": [],
   "source": [
    "# now try a dictionary and choose the best datatype\n",
    "valid_dict = {}\n",
    "valid_dict['names']= names\n",
    "valid_dict.update({'uids':uids})\n",
    "valid_dict['terms']=terms\n",
    "valid_dict['ips']=ips"
   ]
  },
  {
   "cell_type": "code",
   "execution_count": 35,
   "metadata": {
    "collapsed": false
   },
   "outputs": [
    {
     "data": {
      "text/plain": [
       "'mguser2'"
      ]
     },
     "execution_count": 35,
     "metadata": {},
     "output_type": "execute_result"
    }
   ],
   "source": [
    "# to access mguser2\n",
    "valid_dict[\"uids\"][1]"
   ]
  },
  {
   "cell_type": "raw",
   "metadata": {},
   "source": [
    "I think this is more intuitive. Then we can access the type of data and compare repetitions."
   ]
  },
  {
   "cell_type": "code",
   "execution_count": 36,
   "metadata": {
    "collapsed": true
   },
   "outputs": [
    {
     "data": {
      "text/plain": [
       "['one', 'two', 'three', 'four']"
      ]
     },
     "execution_count": 36,
     "metadata": {},
     "output_type": "execute_result"
    }
   ],
   "source": [
    "valid_dict['names'].append('four')\n",
    "valid_dict['names']"
   ]
  },
  {
   "cell_type": "code",
   "execution_count": 2,
   "metadata": {
    "collapsed": true
   },
   "outputs": [],
   "source": [
    "data = os.system(\"cat data.dat\")"
   ]
  },
  {
   "cell_type": "code",
   "execution_count": 3,
   "metadata": {
    "collapsed": true
   },
   "outputs": [
    {
     "data": {
      "text/plain": [
       "256"
      ]
     },
     "execution_count": 3,
     "metadata": {},
     "output_type": "execute_result"
    }
   ],
   "source": [
    "data"
   ]
  },
  {
   "cell_type": "markdown",
   "metadata": {},
   "source": [
    "## Graphs \n",
    "Moving to graphing portion of the project. THe required search for online and offline users has been completed using shell scripting. gnuPlot would be another way to go with the graphing. hOwever, I'd like to bring in python to the project since the client suggested it."
   ]
  },
  {
   "cell_type": "code",
   "execution_count": 1,
   "metadata": {
    "collapsed": false
   },
   "outputs": [],
   "source": [
    "import pandas as pd"
   ]
  },
  {
   "cell_type": "code",
   "execution_count": 4,
   "metadata": {
    "collapsed": false
   },
   "outputs": [],
   "source": [
    "last=pd.read_csv(\"/home/mragy/AkamaiAcademy/project/last_sq.txt\", sep=\"\\n\", index_col=None)  "
   ]
  },
  {
   "cell_type": "code",
   "execution_count": 50,
   "metadata": {
    "collapsed": true
   },
   "outputs": [
    {
     "data": {
      "text/html": [
       "<div>\n",
       "<table border=\"1\" class=\"dataframe\">\n",
       "  <thead>\n",
       "    <tr style=\"text-align: right;\">\n",
       "      <th></th>\n",
       "      <th>mragy pts/1 :0 Tue May 3 18:02 still logged in</th>\n",
       "    </tr>\n",
       "  </thead>\n",
       "  <tbody>\n",
       "    <tr>\n",
       "      <th>0</th>\n",
       "      <td>mragy :0 :0 Tue May 3 17:58 still logged in</td>\n",
       "    </tr>\n",
       "  </tbody>\n",
       "</table>\n",
       "</div>"
      ],
      "text/plain": [
       "  mragy pts/1 :0 Tue May 3 18:02 still logged in \n",
       "0    mragy :0 :0 Tue May 3 17:58 still logged in "
      ]
     },
     "execution_count": 50,
     "metadata": {},
     "output_type": "execute_result"
    }
   ],
   "source": [
    "last[:1]"
   ]
  },
  {
   "cell_type": "code",
   "execution_count": 59,
   "metadata": {
    "collapsed": true
   },
   "outputs": [
    {
     "data": {
      "text/plain": [
       "['',\n",
       " '',\n",
       " '',\n",
       " '',\n",
       " '',\n",
       " 'mragy',\n",
       " ':0',\n",
       " ':0',\n",
       " 'Tue',\n",
       " 'May',\n",
       " '3',\n",
       " '17:58',\n",
       " 'still',\n",
       " 'logged',\n",
       " 'in',\n",
       " '']"
      ]
     },
     "execution_count": 59,
     "metadata": {},
     "output_type": "execute_result"
    }
   ],
   "source": [
    "# read the entire dataframe into one string\n",
    "# then split according to line break or \\n\n",
    "last_arr=last.to_string(index=False).split('\\n')\n",
    "x=last_arr.__getitem__(1)\n",
    "x.split(\" \")"
   ]
  },
  {
   "cell_type": "code",
   "execution_count": 81,
   "metadata": {
    "collapsed": false
   },
   "outputs": [],
   "source": [
    "data=[]\n",
    "for i in range(len(last_arr)):\n",
    "    x=last_arr.__getitem__(i)\n",
    "    data.append(x.split(\" \"))"
   ]
  },
  {
   "cell_type": "code",
   "execution_count": 82,
   "metadata": {
    "collapsed": true
   },
   "outputs": [
    {
     "data": {
      "text/plain": [
       "'mragy'"
      ]
     },
     "execution_count": 82,
     "metadata": {},
     "output_type": "execute_result"
    }
   ],
   "source": [
    "data[1][5]"
   ]
  },
  {
   "cell_type": "code",
   "execution_count": 83,
   "metadata": {
    "collapsed": true
   },
   "outputs": [
    {
     "data": {
      "text/plain": [
       "17"
      ]
     },
     "execution_count": 83,
     "metadata": {},
     "output_type": "execute_result"
    }
   ],
   "source": [
    "len(data)"
   ]
  },
  {
   "cell_type": "code",
   "execution_count": 84,
   "metadata": {
    "collapsed": true
   },
   "outputs": [
    {
     "name": "stdout",
     "output_type": "stream",
     "text": [
      "['pts/1', '', 'system', '', '', 'system', '', '', '', 'system', '', '', 'system', 'mragy', '', 'system', '']\n"
     ]
    }
   ],
   "source": [
    "# list comprehensions \n",
    "# https://docs.python.org/2/tutorial/datastructures.html#list-comprehensions\n",
    "# squares = [x**2 for x in range(10)]\n",
    "x= [data[i][1] for i in range(len(data))]\n",
    "print(x)"
   ]
  },
  {
   "cell_type": "code",
   "execution_count": 97,
   "metadata": {
    "collapsed": false
   },
   "outputs": [
    {
     "name": "stdout",
     "output_type": "stream",
     "text": [
      "\n"
     ]
    }
   ],
   "source": [
    "print(data[10][12])"
   ]
  },
  {
   "cell_type": "code",
   "execution_count": 24,
   "metadata": {
    "collapsed": false,
    "scrolled": true
   },
   "outputs": [],
   "source": [
    "# dir(x)"
   ]
  },
  {
   "cell_type": "markdown",
   "metadata": {
    "collapsed": true
   },
   "source": [
    "## Starting over\n",
    "cleaning and munging the file in bash\n",
    "used sed"
   ]
  },
  {
   "cell_type": "code",
   "execution_count": 6,
   "metadata": {
    "collapsed": false
   },
   "outputs": [],
   "source": [
    "import pandas as pd\n",
    "import numpy as np\n",
    "\n",
    "file=pd.read_csv(\"/home/mragy/AkamaiAcademy/project/data/data.dat\", sep=\",\", index_col=None) "
   ]
  },
  {
   "cell_type": "code",
   "execution_count": 7,
   "metadata": {
    "collapsed": false
   },
   "outputs": [],
   "source": [
    "# read the entire dataframe into one string\n",
    "# then split according to line break or \\n\n",
    "string_file=file.to_string(index=False).split('\\n')\n",
    "#temp=string_file.__getitem__(1)\n",
    "#temp.split(\" \")\n"
   ]
  },
  {
   "cell_type": "code",
   "execution_count": 8,
   "metadata": {
    "collapsed": false
   },
   "outputs": [],
   "source": [
    "arr=[]\n",
    "for i in range(len(string_file)):\n",
    "    x=string_file.__getitem__(i)\n",
    "    arr.append(x.split(\" \"))"
   ]
  },
  {
   "cell_type": "code",
   "execution_count": 9,
   "metadata": {
    "collapsed": true
   },
   "outputs": [
    {
     "data": {
      "text/plain": [
       "'00.00'"
      ]
     },
     "execution_count": 9,
     "metadata": {},
     "output_type": "execute_result"
    }
   ],
   "source": [
    "arr[0][9]"
   ]
  },
  {
   "cell_type": "code",
   "execution_count": 16,
   "metadata": {
    "collapsed": false
   },
   "outputs": [],
   "source": [
    "#sum=0\n",
    "#for i in range(len(arr)):\n",
    "#    print(arr[i][9])\n",
    "    #sum += int(arr[i][9])*(5/3)\n",
    "#print(sum)"
   ]
  },
  {
   "cell_type": "code",
   "execution_count": null,
   "metadata": {
    "collapsed": true
   },
   "outputs": [],
   "source": []
  },
  {
   "cell_type": "code",
   "execution_count": 105,
   "metadata": {
    "collapsed": true
   },
   "outputs": [
    {
     "data": {
      "text/plain": [
       "[]"
      ]
     },
     "execution_count": 105,
     "metadata": {},
     "output_type": "execute_result"
    }
   ],
   "source": [
    "# put the array row in a dictionary with keys: \n",
    "# name, terminal, ip, DOW, month, date, time_on, time_off, total \n",
    "\n",
    "# try a list comprehension\n",
    "# https://www.python.org/dev/peps/pep-0274/\n",
    "\n",
    "\n",
    "dict={\"name\": [arr[k][0] for k in range(1-len(arr))]}\n",
    "#, \"terminal\":[], \"ip\":[], \"DOW\":[], \"month\":[],\"date\":[],\"time_on\":[],\"time_off\":[],\"total\":[]} \n",
    "dict[\"name\"]"
   ]
  },
  {
   "cell_type": "code",
   "execution_count": null,
   "metadata": {
    "collapsed": false
   },
   "outputs": [],
   "source": [
    "for i in range(1-len(arr)):\n",
    "    dict[\"name\"].append(arr[i][0])\n",
    "    dict[\"terminal\"].append(arr[i][1])\n",
    "    dict[\"ip\"].append(arr[i][2])\n",
    "    dict[\"DOW\"].append(arr[i][3])\n",
    "    dict[\"month\"].append(arr[i][4])\n",
    "    dict[\"date\"].append(arr[i][5])\n",
    "    dict[\"time_on\"].append(arr[i][6])\n",
    "    dict[\"time_off\"].append(arr[i][8])\n",
    "    dict[\"total\"].append(arr[i][9])"
   ]
  },
  {
   "cell_type": "code",
   "execution_count": 96,
   "metadata": {
    "collapsed": true
   },
   "outputs": [
    {
     "data": {
      "text/plain": [
       "['mara', 'worle']"
      ]
     },
     "execution_count": 96,
     "metadata": {},
     "output_type": "execute_result"
    }
   ],
   "source": [
    "arr[0][1]\n",
    "dict={\"name\":[], \"terminal\":[], \"ip\":[], \"DOW\":[], \"month\":[],\"date\":[],\"time_on\":[],\"time_off\":[],\"total\":[]} \n",
    "dict[\"name\"].append(\"mara\")\n",
    "dict[\"name\"].append(\"worle\")\n",
    "dict[\"name\"]"
   ]
  },
  {
   "cell_type": "code",
   "execution_count": null,
   "metadata": {
    "collapsed": true
   },
   "outputs": [],
   "source": [
    "# I even thought about this!\n",
    "cut -d\" \" -f1 data.dat > name.dat\n",
    "cut -d\" \" -f2 data.dat > terminal.dat\n",
    "cut -d\" \" -f3 data.dat > ip.dat\n",
    "cut -d\" \" -f4,5,6 data.dat > date.dat\n",
    "cut -d\" \" -f7,9 data.dat > time_on_off.dat\n",
    "cut -d\" \" -f10 data.dat > total_time.dat"
   ]
  },
  {
   "cell_type": "markdown",
   "metadata": {},
   "source": [
    "# Stats"
   ]
  },
  {
   "cell_type": "code",
   "execution_count": 5,
   "metadata": {
    "collapsed": true
   },
   "outputs": [
    {
     "data": {
      "text/plain": [
       "00.00    4.158048\n",
       "dtype: float64"
      ]
     },
     "execution_count": 5,
     "metadata": {},
     "output_type": "execute_result"
    }
   ],
   "source": [
    "last.std()"
   ]
  },
  {
   "cell_type": "code",
   "execution_count": 13,
   "metadata": {
    "collapsed": true
   },
   "outputs": [
    {
     "data": {
      "text/plain": [
       "00.00    187\n",
       "dtype: int64"
      ]
     },
     "execution_count": 13,
     "metadata": {},
     "output_type": "execute_result"
    }
   ],
   "source": [
    "last.count()"
   ]
  },
  {
   "cell_type": "code",
   "execution_count": null,
   "metadata": {
    "collapsed": false
   },
   "outputs": [],
   "source": [
    "x_data =[range(last.len)] \n",
    "y_data = [last.get_value(n,'1') for n in range(1,129)]  \n",
    "\n",
    "fig = plt.figure(figsize=(10,6))\n",
    "# create an axes obj\n",
    "ax = fig.add_subplot(1,1,1)\n",
    "# plot the data\n",
    "ax.scatter(x_data, y_data, color=\"blue\", marker=\".\" ) \n",
    "# add axes labels\n",
    "ax.set_xlabel(\"x\")\n",
    "ax.set_ylabel(\"y\")"
   ]
  },
  {
   "cell_type": "markdown",
   "metadata": {},
   "source": [
    "## Another Bash Munging\n",
    "\n",
    "Cleaned the data some more\n",
    "using cut to separate the fields"
   ]
  },
  {
   "cell_type": "code",
   "execution_count": 19,
   "metadata": {
    "collapsed": true
   },
   "outputs": [],
   "source": [
    "import pandas as pd\n",
    "import numpy as np\n",
    "\n",
    "time=pd.read_csv(\"/home/mragy/AkamaiAcademy/project/data/total_time.dat\", sep=\",\", index_col=None) "
   ]
  },
  {
   "cell_type": "code",
   "execution_count": 20,
   "metadata": {
    "collapsed": false
   },
   "outputs": [],
   "source": [
    "# time"
   ]
  },
  {
   "cell_type": "code",
   "execution_count": 21,
   "metadata": {
    "collapsed": false
   },
   "outputs": [
    {
     "data": {
      "text/plain": [
       "00.00    3.670657\n",
       "dtype: float64"
      ]
     },
     "execution_count": 21,
     "metadata": {},
     "output_type": "execute_result"
    }
   ],
   "source": [
    "time.mean()*(5/3)"
   ]
  },
  {
   "cell_type": "code",
   "execution_count": 22,
   "metadata": {
    "collapsed": false
   },
   "outputs": [
    {
     "data": {
      "text/plain": [
       "00.00    2.629858\n",
       "dtype: float64"
      ]
     },
     "execution_count": 22,
     "metadata": {},
     "output_type": "execute_result"
    }
   ],
   "source": [
    "time.std()*(5/3)"
   ]
  },
  {
   "cell_type": "code",
   "execution_count": 23,
   "metadata": {
    "collapsed": false
   },
   "outputs": [
    {
     "data": {
      "text/plain": [
       "00.00    9.49\n",
       "dtype: float64"
      ]
     },
     "execution_count": 23,
     "metadata": {},
     "output_type": "execute_result"
    }
   ],
   "source": [
    "time.max()"
   ]
  },
  {
   "cell_type": "code",
   "execution_count": 24,
   "metadata": {
    "collapsed": false
   },
   "outputs": [
    {
     "data": {
      "text/plain": [
       "00.00    0.0\n",
       "dtype: float64"
      ]
     },
     "execution_count": 24,
     "metadata": {},
     "output_type": "execute_result"
    }
   ],
   "source": [
    "time.min()"
   ]
  },
  {
   "cell_type": "markdown",
   "metadata": {},
   "source": [
    "## Matplotlib\n",
    "http://cs.smith.edu/dftwiki/index.php/MatPlotLib_Tutorial_1"
   ]
  },
  {
   "cell_type": "code",
   "execution_count": 25,
   "metadata": {
    "collapsed": true
   },
   "outputs": [],
   "source": [
    "import matplotlib.pyplot as plt\n",
    "import numpy as np"
   ]
  },
  {
   "cell_type": "code",
   "execution_count": 26,
   "metadata": {
    "collapsed": false
   },
   "outputs": [],
   "source": [
    "x_data = [range(len(time))] \n",
    "y_data = [time.get_value(n, \"00.00\") for n in range(len(time))]"
   ]
  },
  {
   "cell_type": "code",
   "execution_count": 27,
   "metadata": {
    "collapsed": true
   },
   "outputs": [
    {
     "data": {
      "text/plain": [
       "[0.0,\n",
       " 0.14000000000000001,\n",
       " 0.16,\n",
       " 3.0499999999999998,\n",
       " 2.1499999999999999,\n",
       " 2.1400000000000001,\n",
       " 2.1600000000000001,\n",
       " 2.1800000000000002,\n",
       " 2.25,\n",
       " 1.02,\n",
       " 2.1099999999999999,\n",
       " 3.1600000000000001,\n",
       " 2.1299999999999999,\n",
       " 2.29,\n",
       " 2.2799999999999998,\n",
       " 2.1699999999999999,\n",
       " 2.3399999999999999,\n",
       " 3.29,\n",
       " 0.0,\n",
       " 3.1099999999999999,\n",
       " 0.57999999999999996,\n",
       " 2.1800000000000002,\n",
       " 2.2799999999999998,\n",
       " 2.1299999999999999,\n",
       " 2.3500000000000001,\n",
       " 2.1699999999999999,\n",
       " 2.1099999999999999,\n",
       " 2.1800000000000002,\n",
       " 2.1099999999999999,\n",
       " 3.1299999999999999,\n",
       " 3.3700000000000001,\n",
       " 0.050000000000000003,\n",
       " 2.3100000000000001,\n",
       " 3.1800000000000002,\n",
       " 2.2000000000000002,\n",
       " 2.1099999999999999,\n",
       " 3.1099999999999999,\n",
       " 2.21,\n",
       " 4.4800000000000004,\n",
       " 2.2400000000000002,\n",
       " 0.54000000000000004,\n",
       " 4.2300000000000004,\n",
       " 7.0700000000000003,\n",
       " 2.1800000000000002,\n",
       " 3.1099999999999999,\n",
       " 5.1399999999999997,\n",
       " 0.48999999999999999,\n",
       " 3.25,\n",
       " 8.1099999999999994,\n",
       " 4.0999999999999996,\n",
       " 0.32000000000000001,\n",
       " 3.1099999999999999,\n",
       " 3.1099999999999999,\n",
       " 3.1099999999999999,\n",
       " 2.1400000000000001,\n",
       " 0.33000000000000002,\n",
       " 0.029999999999999999,\n",
       " 2.3700000000000001,\n",
       " 0.02,\n",
       " 2.2400000000000002,\n",
       " 3.1899999999999999,\n",
       " 3.1000000000000001,\n",
       " 2.1099999999999999,\n",
       " 0.089999999999999997,\n",
       " 1.3400000000000001,\n",
       " 0.52000000000000002,\n",
       " 3.1099999999999999,\n",
       " 0.34999999999999998,\n",
       " 1.47,\n",
       " 2.1699999999999999,\n",
       " 2.21,\n",
       " 0.01,\n",
       " 2.2599999999999998,\n",
       " 3.2599999999999998,\n",
       " 5.1799999999999997,\n",
       " 2.3999999999999999,\n",
       " 0.10000000000000001,\n",
       " 4.0999999999999996,\n",
       " 2.1899999999999999,\n",
       " 4.0599999999999996,\n",
       " 2.2599999999999998,\n",
       " 4.2599999999999998,\n",
       " 5.3399999999999999,\n",
       " 4.1100000000000003,\n",
       " 2.48,\n",
       " 2.1099999999999999,\n",
       " 5.1100000000000003,\n",
       " 0.040000000000000001,\n",
       " 4.1100000000000003,\n",
       " 1.1699999999999999,\n",
       " 0.29999999999999999,\n",
       " 1.47,\n",
       " 4.2199999999999998,\n",
       " 2.5299999999999998,\n",
       " 1.04,\n",
       " 2.1099999999999999,\n",
       " 2.2200000000000002,\n",
       " 0.16,\n",
       " 2.2599999999999998,\n",
       " 2.2799999999999998,\n",
       " 2.2999999999999998,\n",
       " 2.2999999999999998,\n",
       " 2.3199999999999998,\n",
       " 0.089999999999999997,\n",
       " 2.1099999999999999,\n",
       " 2.3700000000000001,\n",
       " 3.1099999999999999,\n",
       " 0.050000000000000003,\n",
       " 0.02,\n",
       " 2.3999999999999999,\n",
       " 2.1400000000000001,\n",
       " 3.1000000000000001,\n",
       " 3.1000000000000001,\n",
       " 3.1099999999999999,\n",
       " 2.1600000000000001,\n",
       " 2.1099999999999999,\n",
       " 3.21,\n",
       " 0.22,\n",
       " 2.1099999999999999,\n",
       " 2.1299999999999999,\n",
       " 3.29,\n",
       " 0.56999999999999995,\n",
       " 2.1899999999999999,\n",
       " 1.1299999999999999,\n",
       " 5.1100000000000003,\n",
       " 4.2199999999999998,\n",
       " 0.14000000000000001,\n",
       " 2.21,\n",
       " 2.23,\n",
       " 5.2800000000000002,\n",
       " 3.1099999999999999,\n",
       " 0.059999999999999998,\n",
       " 2.1600000000000001,\n",
       " 2.21,\n",
       " 0.20000000000000001,\n",
       " 0.17000000000000001,\n",
       " 0.20000000000000001,\n",
       " 2.21,\n",
       " 2.4399999999999999,\n",
       " 2.3500000000000001,\n",
       " 2.3399999999999999,\n",
       " 0.38,\n",
       " 0.56000000000000005,\n",
       " 2.1099999999999999,\n",
       " 0.029999999999999999,\n",
       " 2.1200000000000001,\n",
       " 0.34999999999999998,\n",
       " 2.4500000000000002,\n",
       " 2.1499999999999999,\n",
       " 2.1499999999999999,\n",
       " 3.1099999999999999,\n",
       " 3.1099999999999999,\n",
       " 3.2799999999999998,\n",
       " 3.1099999999999999,\n",
       " 3.2799999999999998,\n",
       " 0.040000000000000001,\n",
       " 3.3199999999999998,\n",
       " 3.3199999999999998,\n",
       " 3.1099999999999999,\n",
       " 3.3599999999999999,\n",
       " 2.1400000000000001,\n",
       " 1.3700000000000001,\n",
       " 2.1099999999999999,\n",
       " 1.26,\n",
       " 3.1099999999999999,\n",
       " 3.1200000000000001,\n",
       " 2.3500000000000001,\n",
       " 3.1200000000000001,\n",
       " 2.4500000000000002,\n",
       " 2.1899999999999999,\n",
       " 3.1099999999999999,\n",
       " 0.0,\n",
       " 6.1100000000000003,\n",
       " 4.0999999999999996,\n",
       " 4.2000000000000002,\n",
       " 2.5499999999999998,\n",
       " 0.0,\n",
       " 0.0,\n",
       " 2.1099999999999999,\n",
       " 3.1099999999999999,\n",
       " 0.20000000000000001,\n",
       " 7.1100000000000003,\n",
       " 8.1500000000000004,\n",
       " 2.1699999999999999,\n",
       " 0.14999999999999999,\n",
       " 0.12,\n",
       " 5.1100000000000003,\n",
       " 1.1599999999999999,\n",
       " 0.28000000000000003,\n",
       " 2.3900000000000001,\n",
       " 0.51000000000000001,\n",
       " 2.3799999999999999,\n",
       " 2.1699999999999999,\n",
       " 1.51,\n",
       " 1.52,\n",
       " 1.0800000000000001,\n",
       " 4.1100000000000003,\n",
       " 1.49,\n",
       " 2.0099999999999998,\n",
       " 1.3600000000000001,\n",
       " 0.40999999999999998,\n",
       " 0.46000000000000002,\n",
       " 2.0600000000000001,\n",
       " 2.1400000000000001,\n",
       " 3.1899999999999999,\n",
       " 4.3399999999999999,\n",
       " 2.2799999999999998,\n",
       " 0.02,\n",
       " 2.0099999999999998,\n",
       " 0.070000000000000007,\n",
       " 2.0499999999999998,\n",
       " 2.1600000000000001,\n",
       " 2.2200000000000002,\n",
       " 9.4900000000000002,\n",
       " 0.16,\n",
       " 2.4100000000000001,\n",
       " 2.4199999999999999,\n",
       " 0.37,\n",
       " 2.5499999999999998,\n",
       " 3.1400000000000001,\n",
       " 0.22,\n",
       " 8.1099999999999994,\n",
       " 3.3999999999999999,\n",
       " 2.1800000000000002,\n",
       " 0.12,\n",
       " 2.2400000000000002,\n",
       " 3.1000000000000001,\n",
       " 2.0,\n",
       " 4.4000000000000004,\n",
       " 4.4400000000000004,\n",
       " 4.5,\n",
       " 3.1000000000000001,\n",
       " 0.5,\n",
       " 3.1000000000000001,\n",
       " 3.1000000000000001,\n",
       " 0.45000000000000001,\n",
       " 0.13,\n",
       " 3.21,\n",
       " 6.2300000000000004,\n",
       " 5.0700000000000003,\n",
       " 2.1099999999999999,\n",
       " 5.0899999999999999,\n",
       " 3.1000000000000001,\n",
       " 5.1100000000000003,\n",
       " 5.0999999999999996,\n",
       " 0.059999999999999998,\n",
       " 0.029999999999999999,\n",
       " 0.11,\n",
       " 2.29,\n",
       " 2.2599999999999998,\n",
       " 2.2799999999999998,\n",
       " 0.55000000000000004,\n",
       " 0.040000000000000001,\n",
       " 2.2400000000000002,\n",
       " 1.1200000000000001,\n",
       " 1.3600000000000001,\n",
       " 2.0,\n",
       " 4.0,\n",
       " 1.52,\n",
       " 3.1000000000000001,\n",
       " 0.01,\n",
       " 3.2200000000000002,\n",
       " 1.1299999999999999,\n",
       " 2.3100000000000001,\n",
       " 2.2400000000000002,\n",
       " 3.2200000000000002,\n",
       " 0.27000000000000002,\n",
       " 2.1000000000000001,\n",
       " 0.37,\n",
       " 0.14000000000000001,\n",
       " 4.1600000000000001,\n",
       " 4.2199999999999998,\n",
       " 0.55000000000000004,\n",
       " 2.3199999999999998,\n",
       " 0.37,\n",
       " 1.26,\n",
       " 2.2200000000000002,\n",
       " 2.2799999999999998,\n",
       " 2.1400000000000001,\n",
       " 4.3899999999999997,\n",
       " 2.1099999999999999,\n",
       " 0.02,\n",
       " 2.1499999999999999,\n",
       " 2.1899999999999999,\n",
       " 2.21,\n",
       " 2.2200000000000002,\n",
       " 2.2000000000000002,\n",
       " 2.1899999999999999,\n",
       " 3.1499999999999999,\n",
       " 2.3799999999999999,\n",
       " 3.1000000000000001,\n",
       " 3.1000000000000001,\n",
       " 3.1099999999999999,\n",
       " 0.01,\n",
       " 3.1099999999999999,\n",
       " 3.1200000000000001,\n",
       " 3.2400000000000002,\n",
       " 3.0299999999999998,\n",
       " 0.02,\n",
       " 2.1200000000000001,\n",
       " 3.1000000000000001,\n",
       " 2.2799999999999998,\n",
       " 2.1499999999999999,\n",
       " 3.4100000000000001,\n",
       " 1.5800000000000001,\n",
       " 3.1099999999999999,\n",
       " 2.1099999999999999,\n",
       " 0.14000000000000001,\n",
       " 0.01,\n",
       " 0.0,\n",
       " 0.0,\n",
       " 2.1200000000000001,\n",
       " 2.1099999999999999,\n",
       " 2.21,\n",
       " 0.070000000000000007,\n",
       " 2.1299999999999999,\n",
       " 0.050000000000000003,\n",
       " 2.1099999999999999,\n",
       " 0.01,\n",
       " 2.1600000000000001,\n",
       " 2.1099999999999999,\n",
       " 0.20999999999999999,\n",
       " 2.1899999999999999,\n",
       " 2.3100000000000001,\n",
       " 2.23,\n",
       " 0.089999999999999997,\n",
       " 2.1899999999999999,\n",
       " 2.2200000000000002,\n",
       " 0.080000000000000002,\n",
       " 0.059999999999999998]"
      ]
     },
     "execution_count": 27,
     "metadata": {},
     "output_type": "execute_result"
    }
   ],
   "source": [
    "y_data"
   ]
  },
  {
   "cell_type": "code",
   "execution_count": 28,
   "metadata": {
    "collapsed": false
   },
   "outputs": [],
   "source": [
    "fig1 = plt.figure()\n",
    "ax1=fig1.add_subplot(111)\n",
    "ax1.boxplot(y_data)\n",
    "plt.show()\n",
    "#fileName = \"/home/mragy/AkamaiAcademy/project/graphs/boxplot1.png\"\n",
    "#fig1.savefig(fileName, format=\"png\")"
   ]
  },
  {
   "cell_type": "code",
   "execution_count": 29,
   "metadata": {
    "collapsed": false
   },
   "outputs": [],
   "source": [
    "fig2 = plt.figure()\n",
    "ax2=fig2.add_subplot(111)\n",
    "ax2.plot(y_data)\n",
    "plt.show()\n",
    "#fileName = \"/home/mragy/AkamaiAcademy/project/graphs/plot1.png\"\n",
    "#fig2.savefig(fileName, format=\"png\")"
   ]
  },
  {
   "cell_type": "markdown",
   "metadata": {
    "collapsed": true
   },
   "source": [
    "# PDF or Export Notebook\n",
    "in order to make a pdf copy\n",
    "sudo apt-get install pandoc\n",
    "sudo apt-get install texlive-latex-base\n",
    "or if that fails: just download as HTML and from the browser copy as pdf\n"
   ]
  },
  {
   "cell_type": "markdown",
   "metadata": {},
   "source": [
    "# Python for Data Analysis, by Wes McKinney\n",
    "\n",
    "haven't given up on pandas :)"
   ]
  },
  {
   "cell_type": "code",
   "execution_count": 5,
   "metadata": {
    "collapsed": true
   },
   "outputs": [],
   "source": [
    "import pandas as pd"
   ]
  },
  {
   "cell_type": "code",
   "execution_count": 10,
   "metadata": {
    "collapsed": true
   },
   "outputs": [],
   "source": [
    "data = pd.read_csv(\"/home/mragy/AkamaiAcademy/project/phase2/data/l9.dat\", sep=\" \",names=[\"name\", 'terminal','ip', 'DOW','month', 'date', 'total_time'])"
   ]
  },
  {
   "cell_type": "code",
   "execution_count": null,
   "metadata": {
    "collapsed": true
   },
   "outputs": [],
   "source": [
    "# corrects the replacement of \":\" to \".\" in tr command\n",
    "\n",
    "data['total_time']=data['total_time'].apply(lambda x : (np.floor(x)  + (x - np.floor(x))*(5/3)) "
   ]
  },
  {
   "cell_type": "code",
   "execution_count": null,
   "metadata": {
    "collapsed": false
   },
   "outputs": [],
   "source": [
    "data.groupby('name')['total_time']"
   ]
  },
  {
   "cell_type": "code",
   "execution_count": 14,
   "metadata": {
    "collapsed": true
   },
   "outputs": [
    {
     "data": {
      "text/plain": [
       "name\n",
       "mguser1     77.833333\n",
       "mguser10    44.650000\n",
       "mguser11    44.883333\n",
       "mguser12    62.800000\n",
       "mguser13    63.650000\n",
       "mguser14    79.883333\n",
       "mguser15    65.016667\n",
       "mguser17    63.066667\n",
       "mguser18    37.400000\n",
       "mguser19    62.750000\n",
       "mguser2     49.766667\n",
       "mguser20    66.566667\n",
       "mguser21    33.400000\n",
       "mguser29    85.866667\n",
       "mguser3     44.733333\n",
       "mguser4     71.200000\n",
       "mguser5     52.666667\n",
       "mguser6     38.233333\n",
       "mguser7     44.050000\n",
       "mguser8     63.633333\n",
       "mguser9     59.266667\n",
       "Name: total_time, dtype: float64"
      ]
     },
     "execution_count": 14,
     "metadata": {},
     "output_type": "execute_result"
    }
   ],
   "source": [
    "data.groupby('name').total_time.sum()"
   ]
  },
  {
   "cell_type": "code",
   "execution_count": 9,
   "metadata": {
    "collapsed": false
   },
   "outputs": [
    {
     "data": {
      "text/plain": [
       "name\n",
       "Apr   NaN\n",
       "Name: total_time, dtype: float64"
      ]
     },
     "execution_count": 9,
     "metadata": {},
     "output_type": "execute_result"
    }
   ],
   "source": [
    "data.groupby('name').total_time.max()"
   ]
  },
  {
   "cell_type": "code",
   "execution_count": 57,
   "metadata": {
    "collapsed": false
   },
   "outputs": [
    {
     "data": {
      "text/plain": [
       "date\n",
       "11     51.205556\n",
       "12    140.388889\n",
       "14    175.405556\n",
       "15    150.666667\n",
       "19    209.461111\n",
       "20    142.172222\n",
       "21     13.216667\n",
       "25      5.911111\n",
       "27      0.833333\n",
       "Name: total_time, dtype: float64"
      ]
     },
     "execution_count": 57,
     "metadata": {},
     "output_type": "execute_result"
    }
   ],
   "source": [
    "data.groupby('date').total_time.sum()"
   ]
  },
  {
   "cell_type": "code",
   "execution_count": 58,
   "metadata": {
    "collapsed": false
   },
   "outputs": [
    {
     "data": {
      "text/plain": [
       "DOW\n",
       "Fri    150.666667\n",
       "Mon     57.116667\n",
       "Thu    188.622222\n",
       "Tue    349.850000\n",
       "Wed    143.005556\n",
       "Name: total_time, dtype: float64"
      ]
     },
     "execution_count": 58,
     "metadata": {},
     "output_type": "execute_result"
    }
   ],
   "source": [
    "data.groupby('DOW').total_time.sum()"
   ]
  },
  {
   "cell_type": "code",
   "execution_count": 102,
   "metadata": {
    "collapsed": false
   },
   "outputs": [],
   "source": [
    "users= data.sort_values(by='name')\n",
    "users.index = range(1, len(users) + 1)"
   ]
  },
  {
   "cell_type": "code",
   "execution_count": 104,
   "metadata": {
    "collapsed": false
   },
   "outputs": [
    {
     "data": {
      "text/plain": [
       "name\n",
       "mguser1     53.988889\n",
       "mguser10    36.016667\n",
       "mguser11    33.205556\n",
       "mguser12    46.000000\n",
       "mguser13    48.483333\n",
       "mguser14    54.205556\n",
       "mguser15    46.494444\n",
       "mguser17    46.444444\n",
       "mguser18    31.400000\n",
       "mguser19    43.783333\n",
       "mguser2     33.877778\n",
       "mguser20    49.077778\n",
       "mguser21    24.733333\n",
       "mguser29    57.777778\n",
       "mguser3     32.955556\n",
       "mguser4     52.533333\n",
       "mguser5     41.911111\n",
       "mguser6     28.522222\n",
       "mguser7     33.950000\n",
       "mguser8     46.322222\n",
       "mguser9     47.577778\n",
       "Name: total_time, dtype: float64"
      ]
     },
     "execution_count": 104,
     "metadata": {},
     "output_type": "execute_result"
    }
   ],
   "source": [
    "users.groupby('name').total_time.sum()"
   ]
  },
  {
   "cell_type": "code",
   "execution_count": 79,
   "metadata": {
    "collapsed": false
   },
   "outputs": [
    {
     "name": "stderr",
     "output_type": "stream",
     "text": [
      "/home/mragy/anaconda3/lib/python3.5/site-packages/ipykernel/__main__.py:1: FutureWarning: sort is deprecated, use sort_values(inplace=True) for INPLACE sorting\n",
      "  if __name__ == '__main__':\n"
     ]
    }
   ],
   "source": [
    "users = users.sort('name')"
   ]
  },
  {
   "cell_type": "code",
   "execution_count": 105,
   "metadata": {
    "collapsed": false
   },
   "outputs": [
    {
     "data": {
      "text/html": [
       "<div>\n",
       "<table border=\"1\" class=\"dataframe\">\n",
       "  <thead>\n",
       "    <tr style=\"text-align: right;\">\n",
       "      <th></th>\n",
       "      <th>name</th>\n",
       "      <th>terminal</th>\n",
       "      <th>ip</th>\n",
       "      <th>DOW</th>\n",
       "      <th>month</th>\n",
       "      <th>date</th>\n",
       "      <th>total_time</th>\n",
       "    </tr>\n",
       "  </thead>\n",
       "  <tbody>\n",
       "    <tr>\n",
       "      <th>330</th>\n",
       "      <td>mguser8</td>\n",
       "      <td>pts/0</td>\n",
       "      <td>23.79.236.14</td>\n",
       "      <td>Mon</td>\n",
       "      <td>Apr</td>\n",
       "      <td>11</td>\n",
       "      <td>0.166667</td>\n",
       "    </tr>\n",
       "    <tr>\n",
       "      <th>303</th>\n",
       "      <td>mguser19</td>\n",
       "      <td>pts/3</td>\n",
       "      <td>23.79.236.14</td>\n",
       "      <td>Mon</td>\n",
       "      <td>Apr</td>\n",
       "      <td>11</td>\n",
       "      <td>2.772222</td>\n",
       "    </tr>\n",
       "    <tr>\n",
       "      <th>304</th>\n",
       "      <td>mguser29</td>\n",
       "      <td>pts/2</td>\n",
       "      <td>23.79.236.14</td>\n",
       "      <td>Mon</td>\n",
       "      <td>Apr</td>\n",
       "      <td>11</td>\n",
       "      <td>4.138889</td>\n",
       "    </tr>\n",
       "    <tr>\n",
       "      <th>305</th>\n",
       "      <td>mguser18</td>\n",
       "      <td>pts/1</td>\n",
       "      <td>23.79.236.14</td>\n",
       "      <td>Mon</td>\n",
       "      <td>Apr</td>\n",
       "      <td>11</td>\n",
       "      <td>2.255556</td>\n",
       "    </tr>\n",
       "    <tr>\n",
       "      <th>306</th>\n",
       "      <td>mguser19</td>\n",
       "      <td>pts/0</td>\n",
       "      <td>23.79.236.14</td>\n",
       "      <td>Mon</td>\n",
       "      <td>Apr</td>\n",
       "      <td>11</td>\n",
       "      <td>3.305556</td>\n",
       "    </tr>\n",
       "    <tr>\n",
       "      <th>307</th>\n",
       "      <td>mguser19</td>\n",
       "      <td>pts/8</td>\n",
       "      <td>23.79.236.14</td>\n",
       "      <td>Mon</td>\n",
       "      <td>Apr</td>\n",
       "      <td>11</td>\n",
       "      <td>2.661111</td>\n",
       "    </tr>\n",
       "    <tr>\n",
       "      <th>308</th>\n",
       "      <td>mguser6</td>\n",
       "      <td>pts/8</td>\n",
       "      <td>23.79.236.14</td>\n",
       "      <td>Mon</td>\n",
       "      <td>Apr</td>\n",
       "      <td>11</td>\n",
       "      <td>0.388889</td>\n",
       "    </tr>\n",
       "    <tr>\n",
       "      <th>309</th>\n",
       "      <td>mguser6</td>\n",
       "      <td>pts/8</td>\n",
       "      <td>23.79.236.14</td>\n",
       "      <td>Mon</td>\n",
       "      <td>Apr</td>\n",
       "      <td>11</td>\n",
       "      <td>0.027778</td>\n",
       "    </tr>\n",
       "    <tr>\n",
       "      <th>310</th>\n",
       "      <td>mguser19</td>\n",
       "      <td>pts/8</td>\n",
       "      <td>23.79.236.14</td>\n",
       "      <td>Mon</td>\n",
       "      <td>Apr</td>\n",
       "      <td>11</td>\n",
       "      <td>0.000000</td>\n",
       "    </tr>\n",
       "    <tr>\n",
       "      <th>311</th>\n",
       "      <td>mguser6</td>\n",
       "      <td>pts/8</td>\n",
       "      <td>23.79.236.14</td>\n",
       "      <td>Mon</td>\n",
       "      <td>Apr</td>\n",
       "      <td>11</td>\n",
       "      <td>0.000000</td>\n",
       "    </tr>\n",
       "    <tr>\n",
       "      <th>312</th>\n",
       "      <td>mguser18</td>\n",
       "      <td>pts/4</td>\n",
       "      <td>23.79.236.14</td>\n",
       "      <td>Mon</td>\n",
       "      <td>Apr</td>\n",
       "      <td>11</td>\n",
       "      <td>2.688889</td>\n",
       "    </tr>\n",
       "    <tr>\n",
       "      <th>313</th>\n",
       "      <td>mguser14</td>\n",
       "      <td>pts/1</td>\n",
       "      <td>23.79.236.14</td>\n",
       "      <td>Mon</td>\n",
       "      <td>Apr</td>\n",
       "      <td>11</td>\n",
       "      <td>2.661111</td>\n",
       "    </tr>\n",
       "    <tr>\n",
       "      <th>314</th>\n",
       "      <td>mguser1</td>\n",
       "      <td>pts/0</td>\n",
       "      <td>23.79.236.14</td>\n",
       "      <td>Mon</td>\n",
       "      <td>Apr</td>\n",
       "      <td>11</td>\n",
       "      <td>2.938889</td>\n",
       "    </tr>\n",
       "    <tr>\n",
       "      <th>315</th>\n",
       "      <td>mguser14</td>\n",
       "      <td>pts/14</td>\n",
       "      <td>23.79.236.14</td>\n",
       "      <td>Mon</td>\n",
       "      <td>Apr</td>\n",
       "      <td>11</td>\n",
       "      <td>0.194444</td>\n",
       "    </tr>\n",
       "    <tr>\n",
       "      <th>329</th>\n",
       "      <td>mguser1</td>\n",
       "      <td>pts/1</td>\n",
       "      <td>23.79.236.14</td>\n",
       "      <td>Mon</td>\n",
       "      <td>Apr</td>\n",
       "      <td>11</td>\n",
       "      <td>0.222222</td>\n",
       "    </tr>\n",
       "    <tr>\n",
       "      <th>317</th>\n",
       "      <td>mguser11</td>\n",
       "      <td>pts/11</td>\n",
       "      <td>23.79.236.14</td>\n",
       "      <td>Mon</td>\n",
       "      <td>Apr</td>\n",
       "      <td>11</td>\n",
       "      <td>0.138889</td>\n",
       "    </tr>\n",
       "    <tr>\n",
       "      <th>328</th>\n",
       "      <td>mguser4</td>\n",
       "      <td>pts/2</td>\n",
       "      <td>23.79.236.14</td>\n",
       "      <td>Mon</td>\n",
       "      <td>Apr</td>\n",
       "      <td>11</td>\n",
       "      <td>2.966667</td>\n",
       "    </tr>\n",
       "    <tr>\n",
       "      <th>327</th>\n",
       "      <td>mguser15</td>\n",
       "      <td>pts/3</td>\n",
       "      <td>23.79.236.14</td>\n",
       "      <td>Mon</td>\n",
       "      <td>Apr</td>\n",
       "      <td>11</td>\n",
       "      <td>2.883333</td>\n",
       "    </tr>\n",
       "    <tr>\n",
       "      <th>326</th>\n",
       "      <td>mguser12</td>\n",
       "      <td>pts/4</td>\n",
       "      <td>23.79.236.14</td>\n",
       "      <td>Mon</td>\n",
       "      <td>Apr</td>\n",
       "      <td>11</td>\n",
       "      <td>0.250000</td>\n",
       "    </tr>\n",
       "    <tr>\n",
       "      <th>325</th>\n",
       "      <td>mguser13</td>\n",
       "      <td>pts/5</td>\n",
       "      <td>23.79.236.14</td>\n",
       "      <td>Mon</td>\n",
       "      <td>Apr</td>\n",
       "      <td>11</td>\n",
       "      <td>2.994444</td>\n",
       "    </tr>\n",
       "    <tr>\n",
       "      <th>324</th>\n",
       "      <td>mguser6</td>\n",
       "      <td>pts/6</td>\n",
       "      <td>23.79.236.14</td>\n",
       "      <td>Mon</td>\n",
       "      <td>Apr</td>\n",
       "      <td>11</td>\n",
       "      <td>3.216667</td>\n",
       "    </tr>\n",
       "    <tr>\n",
       "      <th>316</th>\n",
       "      <td>mguser17</td>\n",
       "      <td>pts/13</td>\n",
       "      <td>23.79.236.14</td>\n",
       "      <td>Mon</td>\n",
       "      <td>Apr</td>\n",
       "      <td>11</td>\n",
       "      <td>2.716667</td>\n",
       "    </tr>\n",
       "    <tr>\n",
       "      <th>322</th>\n",
       "      <td>mguser2</td>\n",
       "      <td>pts/8</td>\n",
       "      <td>23.79.236.14</td>\n",
       "      <td>Mon</td>\n",
       "      <td>Apr</td>\n",
       "      <td>11</td>\n",
       "      <td>0.583333</td>\n",
       "    </tr>\n",
       "    <tr>\n",
       "      <th>321</th>\n",
       "      <td>mguser9</td>\n",
       "      <td>pts/9</td>\n",
       "      <td>23.79.236.14</td>\n",
       "      <td>Mon</td>\n",
       "      <td>Apr</td>\n",
       "      <td>11</td>\n",
       "      <td>2.661111</td>\n",
       "    </tr>\n",
       "    <tr>\n",
       "      <th>320</th>\n",
       "      <td>mguser3</td>\n",
       "      <td>pts/10</td>\n",
       "      <td>23.79.236.14</td>\n",
       "      <td>Mon</td>\n",
       "      <td>Apr</td>\n",
       "      <td>11</td>\n",
       "      <td>2.800000</td>\n",
       "    </tr>\n",
       "    <tr>\n",
       "      <th>319</th>\n",
       "      <td>mguser10</td>\n",
       "      <td>pts/11</td>\n",
       "      <td>23.79.236.14</td>\n",
       "      <td>Mon</td>\n",
       "      <td>Apr</td>\n",
       "      <td>11</td>\n",
       "      <td>0.027778</td>\n",
       "    </tr>\n",
       "    <tr>\n",
       "      <th>318</th>\n",
       "      <td>mguser7</td>\n",
       "      <td>pts/12</td>\n",
       "      <td>23.79.236.14</td>\n",
       "      <td>Mon</td>\n",
       "      <td>Apr</td>\n",
       "      <td>11</td>\n",
       "      <td>2.661111</td>\n",
       "    </tr>\n",
       "    <tr>\n",
       "      <th>323</th>\n",
       "      <td>mguser5</td>\n",
       "      <td>pts/7</td>\n",
       "      <td>23.79.236.14</td>\n",
       "      <td>Mon</td>\n",
       "      <td>Apr</td>\n",
       "      <td>11</td>\n",
       "      <td>2.883333</td>\n",
       "    </tr>\n",
       "    <tr>\n",
       "      <th>263</th>\n",
       "      <td>mguser21</td>\n",
       "      <td>pts/33</td>\n",
       "      <td>23.79.236.14</td>\n",
       "      <td>Tue</td>\n",
       "      <td>Apr</td>\n",
       "      <td>12</td>\n",
       "      <td>2.072222</td>\n",
       "    </tr>\n",
       "    <tr>\n",
       "      <th>264</th>\n",
       "      <td>mguser10</td>\n",
       "      <td>pts/32</td>\n",
       "      <td>23.79.236.14</td>\n",
       "      <td>Tue</td>\n",
       "      <td>Apr</td>\n",
       "      <td>12</td>\n",
       "      <td>3.216667</td>\n",
       "    </tr>\n",
       "    <tr>\n",
       "      <th>...</th>\n",
       "      <td>...</td>\n",
       "      <td>...</td>\n",
       "      <td>...</td>\n",
       "      <td>...</td>\n",
       "      <td>...</td>\n",
       "      <td>...</td>\n",
       "      <td>...</td>\n",
       "    </tr>\n",
       "    <tr>\n",
       "      <th>52</th>\n",
       "      <td>mguser5</td>\n",
       "      <td>pts/2</td>\n",
       "      <td>23.79.236.14</td>\n",
       "      <td>Wed</td>\n",
       "      <td>Apr</td>\n",
       "      <td>20</td>\n",
       "      <td>3.305556</td>\n",
       "    </tr>\n",
       "    <tr>\n",
       "      <th>51</th>\n",
       "      <td>mguser1</td>\n",
       "      <td>pts/3</td>\n",
       "      <td>23.79.236.14</td>\n",
       "      <td>Wed</td>\n",
       "      <td>Apr</td>\n",
       "      <td>20</td>\n",
       "      <td>0.888889</td>\n",
       "    </tr>\n",
       "    <tr>\n",
       "      <th>32</th>\n",
       "      <td>mguser13</td>\n",
       "      <td>pts/19</td>\n",
       "      <td>23.79.236.14</td>\n",
       "      <td>Wed</td>\n",
       "      <td>Apr</td>\n",
       "      <td>20</td>\n",
       "      <td>0.138889</td>\n",
       "    </tr>\n",
       "    <tr>\n",
       "      <th>49</th>\n",
       "      <td>mguser1</td>\n",
       "      <td>pts/3</td>\n",
       "      <td>23.79.236.14</td>\n",
       "      <td>Wed</td>\n",
       "      <td>Apr</td>\n",
       "      <td>20</td>\n",
       "      <td>8.661111</td>\n",
       "    </tr>\n",
       "    <tr>\n",
       "      <th>48</th>\n",
       "      <td>mguser12</td>\n",
       "      <td>pts/5</td>\n",
       "      <td>23.79.236.14</td>\n",
       "      <td>Wed</td>\n",
       "      <td>Apr</td>\n",
       "      <td>20</td>\n",
       "      <td>3.694444</td>\n",
       "    </tr>\n",
       "    <tr>\n",
       "      <th>47</th>\n",
       "      <td>mguser18</td>\n",
       "      <td>pts/6</td>\n",
       "      <td>23.79.236.14</td>\n",
       "      <td>Wed</td>\n",
       "      <td>Apr</td>\n",
       "      <td>20</td>\n",
       "      <td>1.361111</td>\n",
       "    </tr>\n",
       "    <tr>\n",
       "      <th>45</th>\n",
       "      <td>mguser13</td>\n",
       "      <td>pts/8</td>\n",
       "      <td>23.79.236.14</td>\n",
       "      <td>Wed</td>\n",
       "      <td>Apr</td>\n",
       "      <td>20</td>\n",
       "      <td>3.305556</td>\n",
       "    </tr>\n",
       "    <tr>\n",
       "      <th>44</th>\n",
       "      <td>mguser6</td>\n",
       "      <td>pts/9</td>\n",
       "      <td>23.79.236.14</td>\n",
       "      <td>Wed</td>\n",
       "      <td>Apr</td>\n",
       "      <td>20</td>\n",
       "      <td>2.855556</td>\n",
       "    </tr>\n",
       "    <tr>\n",
       "      <th>50</th>\n",
       "      <td>mguser15</td>\n",
       "      <td>pts/4</td>\n",
       "      <td>23.79.236.14</td>\n",
       "      <td>Wed</td>\n",
       "      <td>Apr</td>\n",
       "      <td>20</td>\n",
       "      <td>4.988889</td>\n",
       "    </tr>\n",
       "    <tr>\n",
       "      <th>42</th>\n",
       "      <td>mguser2</td>\n",
       "      <td>pts/11</td>\n",
       "      <td>23.79.236.14</td>\n",
       "      <td>Wed</td>\n",
       "      <td>Apr</td>\n",
       "      <td>20</td>\n",
       "      <td>4.283333</td>\n",
       "    </tr>\n",
       "    <tr>\n",
       "      <th>41</th>\n",
       "      <td>mguser5</td>\n",
       "      <td>pts/12</td>\n",
       "      <td>23.79.236.14</td>\n",
       "      <td>Wed</td>\n",
       "      <td>Apr</td>\n",
       "      <td>20</td>\n",
       "      <td>1.500000</td>\n",
       "    </tr>\n",
       "    <tr>\n",
       "      <th>40</th>\n",
       "      <td>mguser8</td>\n",
       "      <td>pts/13</td>\n",
       "      <td>23.79.236.14</td>\n",
       "      <td>Wed</td>\n",
       "      <td>Apr</td>\n",
       "      <td>20</td>\n",
       "      <td>3.022222</td>\n",
       "    </tr>\n",
       "    <tr>\n",
       "      <th>39</th>\n",
       "      <td>mguser4</td>\n",
       "      <td>pts/6</td>\n",
       "      <td>23.79.236.14</td>\n",
       "      <td>Wed</td>\n",
       "      <td>Apr</td>\n",
       "      <td>20</td>\n",
       "      <td>4.977778</td>\n",
       "    </tr>\n",
       "    <tr>\n",
       "      <th>38</th>\n",
       "      <td>mguser15</td>\n",
       "      <td>pts/12</td>\n",
       "      <td>23.79.236.14</td>\n",
       "      <td>Wed</td>\n",
       "      <td>Apr</td>\n",
       "      <td>20</td>\n",
       "      <td>2.938889</td>\n",
       "    </tr>\n",
       "    <tr>\n",
       "      <th>37</th>\n",
       "      <td>mguser10</td>\n",
       "      <td>pts/14</td>\n",
       "      <td>23.79.236.14</td>\n",
       "      <td>Wed</td>\n",
       "      <td>Apr</td>\n",
       "      <td>20</td>\n",
       "      <td>3.305556</td>\n",
       "    </tr>\n",
       "    <tr>\n",
       "      <th>36</th>\n",
       "      <td>mguser5</td>\n",
       "      <td>pts/15</td>\n",
       "      <td>23.79.236.14</td>\n",
       "      <td>Wed</td>\n",
       "      <td>Apr</td>\n",
       "      <td>20</td>\n",
       "      <td>2.661111</td>\n",
       "    </tr>\n",
       "    <tr>\n",
       "      <th>35</th>\n",
       "      <td>mguser12</td>\n",
       "      <td>pts/16</td>\n",
       "      <td>23.79.236.14</td>\n",
       "      <td>Wed</td>\n",
       "      <td>Apr</td>\n",
       "      <td>20</td>\n",
       "      <td>2.911111</td>\n",
       "    </tr>\n",
       "    <tr>\n",
       "      <th>34</th>\n",
       "      <td>mguser6</td>\n",
       "      <td>pts/17</td>\n",
       "      <td>23.79.236.14</td>\n",
       "      <td>Wed</td>\n",
       "      <td>Apr</td>\n",
       "      <td>20</td>\n",
       "      <td>3.500000</td>\n",
       "    </tr>\n",
       "    <tr>\n",
       "      <th>43</th>\n",
       "      <td>mguser29</td>\n",
       "      <td>pts/10</td>\n",
       "      <td>23.79.236.14</td>\n",
       "      <td>Wed</td>\n",
       "      <td>Apr</td>\n",
       "      <td>20</td>\n",
       "      <td>7.905556</td>\n",
       "    </tr>\n",
       "    <tr>\n",
       "      <th>6</th>\n",
       "      <td>mguser11</td>\n",
       "      <td>pts/0</td>\n",
       "      <td>23.79.236.14</td>\n",
       "      <td>Thu</td>\n",
       "      <td>Apr</td>\n",
       "      <td>21</td>\n",
       "      <td>2.744444</td>\n",
       "    </tr>\n",
       "    <tr>\n",
       "      <th>7</th>\n",
       "      <td>mguser4</td>\n",
       "      <td>pts/2</td>\n",
       "      <td>23.79.236.14</td>\n",
       "      <td>Thu</td>\n",
       "      <td>Apr</td>\n",
       "      <td>21</td>\n",
       "      <td>2.800000</td>\n",
       "    </tr>\n",
       "    <tr>\n",
       "      <th>9</th>\n",
       "      <td>mguser4</td>\n",
       "      <td>pts/1</td>\n",
       "      <td>23.79.236.14</td>\n",
       "      <td>Thu</td>\n",
       "      <td>Apr</td>\n",
       "      <td>21</td>\n",
       "      <td>3.050000</td>\n",
       "    </tr>\n",
       "    <tr>\n",
       "      <th>10</th>\n",
       "      <td>mguser5</td>\n",
       "      <td>pts/0</td>\n",
       "      <td>23.79.236.14</td>\n",
       "      <td>Thu</td>\n",
       "      <td>Apr</td>\n",
       "      <td>21</td>\n",
       "      <td>1.766667</td>\n",
       "    </tr>\n",
       "    <tr>\n",
       "      <th>8</th>\n",
       "      <td>mguser5</td>\n",
       "      <td>pts/0</td>\n",
       "      <td>23.79.236.14</td>\n",
       "      <td>Thu</td>\n",
       "      <td>Apr</td>\n",
       "      <td>21</td>\n",
       "      <td>2.855556</td>\n",
       "    </tr>\n",
       "    <tr>\n",
       "      <th>5</th>\n",
       "      <td>mguser29</td>\n",
       "      <td>pts/0</td>\n",
       "      <td>23.79.236.14</td>\n",
       "      <td>Mon</td>\n",
       "      <td>Apr</td>\n",
       "      <td>25</td>\n",
       "      <td>2.772222</td>\n",
       "    </tr>\n",
       "    <tr>\n",
       "      <th>4</th>\n",
       "      <td>mguser29</td>\n",
       "      <td>pts/1</td>\n",
       "      <td>23.79.236.14</td>\n",
       "      <td>Mon</td>\n",
       "      <td>Apr</td>\n",
       "      <td>25</td>\n",
       "      <td>3.138889</td>\n",
       "    </tr>\n",
       "    <tr>\n",
       "      <th>3</th>\n",
       "      <td>mguser17</td>\n",
       "      <td>pts/2</td>\n",
       "      <td>23.79.236.14</td>\n",
       "      <td>Wed</td>\n",
       "      <td>Apr</td>\n",
       "      <td>27</td>\n",
       "      <td>0.444444</td>\n",
       "    </tr>\n",
       "    <tr>\n",
       "      <th>2</th>\n",
       "      <td>mguser4</td>\n",
       "      <td>pts/3</td>\n",
       "      <td>23.79.236.14</td>\n",
       "      <td>Wed</td>\n",
       "      <td>Apr</td>\n",
       "      <td>27</td>\n",
       "      <td>0.388889</td>\n",
       "    </tr>\n",
       "    <tr>\n",
       "      <th>1</th>\n",
       "      <td>mguser3</td>\n",
       "      <td>pts/4</td>\n",
       "      <td>23.79.236.14</td>\n",
       "      <td>Wed</td>\n",
       "      <td>Apr</td>\n",
       "      <td>27</td>\n",
       "      <td>0.000000</td>\n",
       "    </tr>\n",
       "    <tr>\n",
       "      <th>0</th>\n",
       "      <td>mguser10</td>\n",
       "      <td>pts/7</td>\n",
       "      <td>23.79.236.14</td>\n",
       "      <td>Wed</td>\n",
       "      <td>Apr</td>\n",
       "      <td>27</td>\n",
       "      <td>0.000000</td>\n",
       "    </tr>\n",
       "  </tbody>\n",
       "</table>\n",
       "<p>331 rows × 7 columns</p>\n",
       "</div>"
      ],
      "text/plain": [
       "         name terminal            ip  DOW month  date  total_time\n",
       "330   mguser8    pts/0  23.79.236.14  Mon   Apr    11    0.166667\n",
       "303  mguser19    pts/3  23.79.236.14  Mon   Apr    11    2.772222\n",
       "304  mguser29    pts/2  23.79.236.14  Mon   Apr    11    4.138889\n",
       "305  mguser18    pts/1  23.79.236.14  Mon   Apr    11    2.255556\n",
       "306  mguser19    pts/0  23.79.236.14  Mon   Apr    11    3.305556\n",
       "307  mguser19    pts/8  23.79.236.14  Mon   Apr    11    2.661111\n",
       "308   mguser6    pts/8  23.79.236.14  Mon   Apr    11    0.388889\n",
       "309   mguser6    pts/8  23.79.236.14  Mon   Apr    11    0.027778\n",
       "310  mguser19    pts/8  23.79.236.14  Mon   Apr    11    0.000000\n",
       "311   mguser6    pts/8  23.79.236.14  Mon   Apr    11    0.000000\n",
       "312  mguser18    pts/4  23.79.236.14  Mon   Apr    11    2.688889\n",
       "313  mguser14    pts/1  23.79.236.14  Mon   Apr    11    2.661111\n",
       "314   mguser1    pts/0  23.79.236.14  Mon   Apr    11    2.938889\n",
       "315  mguser14   pts/14  23.79.236.14  Mon   Apr    11    0.194444\n",
       "329   mguser1    pts/1  23.79.236.14  Mon   Apr    11    0.222222\n",
       "317  mguser11   pts/11  23.79.236.14  Mon   Apr    11    0.138889\n",
       "328   mguser4    pts/2  23.79.236.14  Mon   Apr    11    2.966667\n",
       "327  mguser15    pts/3  23.79.236.14  Mon   Apr    11    2.883333\n",
       "326  mguser12    pts/4  23.79.236.14  Mon   Apr    11    0.250000\n",
       "325  mguser13    pts/5  23.79.236.14  Mon   Apr    11    2.994444\n",
       "324   mguser6    pts/6  23.79.236.14  Mon   Apr    11    3.216667\n",
       "316  mguser17   pts/13  23.79.236.14  Mon   Apr    11    2.716667\n",
       "322   mguser2    pts/8  23.79.236.14  Mon   Apr    11    0.583333\n",
       "321   mguser9    pts/9  23.79.236.14  Mon   Apr    11    2.661111\n",
       "320   mguser3   pts/10  23.79.236.14  Mon   Apr    11    2.800000\n",
       "319  mguser10   pts/11  23.79.236.14  Mon   Apr    11    0.027778\n",
       "318   mguser7   pts/12  23.79.236.14  Mon   Apr    11    2.661111\n",
       "323   mguser5    pts/7  23.79.236.14  Mon   Apr    11    2.883333\n",
       "263  mguser21   pts/33  23.79.236.14  Tue   Apr    12    2.072222\n",
       "264  mguser10   pts/32  23.79.236.14  Tue   Apr    12    3.216667\n",
       "..        ...      ...           ...  ...   ...   ...         ...\n",
       "52    mguser5    pts/2  23.79.236.14  Wed   Apr    20    3.305556\n",
       "51    mguser1    pts/3  23.79.236.14  Wed   Apr    20    0.888889\n",
       "32   mguser13   pts/19  23.79.236.14  Wed   Apr    20    0.138889\n",
       "49    mguser1    pts/3  23.79.236.14  Wed   Apr    20    8.661111\n",
       "48   mguser12    pts/5  23.79.236.14  Wed   Apr    20    3.694444\n",
       "47   mguser18    pts/6  23.79.236.14  Wed   Apr    20    1.361111\n",
       "45   mguser13    pts/8  23.79.236.14  Wed   Apr    20    3.305556\n",
       "44    mguser6    pts/9  23.79.236.14  Wed   Apr    20    2.855556\n",
       "50   mguser15    pts/4  23.79.236.14  Wed   Apr    20    4.988889\n",
       "42    mguser2   pts/11  23.79.236.14  Wed   Apr    20    4.283333\n",
       "41    mguser5   pts/12  23.79.236.14  Wed   Apr    20    1.500000\n",
       "40    mguser8   pts/13  23.79.236.14  Wed   Apr    20    3.022222\n",
       "39    mguser4    pts/6  23.79.236.14  Wed   Apr    20    4.977778\n",
       "38   mguser15   pts/12  23.79.236.14  Wed   Apr    20    2.938889\n",
       "37   mguser10   pts/14  23.79.236.14  Wed   Apr    20    3.305556\n",
       "36    mguser5   pts/15  23.79.236.14  Wed   Apr    20    2.661111\n",
       "35   mguser12   pts/16  23.79.236.14  Wed   Apr    20    2.911111\n",
       "34    mguser6   pts/17  23.79.236.14  Wed   Apr    20    3.500000\n",
       "43   mguser29   pts/10  23.79.236.14  Wed   Apr    20    7.905556\n",
       "6    mguser11    pts/0  23.79.236.14  Thu   Apr    21    2.744444\n",
       "7     mguser4    pts/2  23.79.236.14  Thu   Apr    21    2.800000\n",
       "9     mguser4    pts/1  23.79.236.14  Thu   Apr    21    3.050000\n",
       "10    mguser5    pts/0  23.79.236.14  Thu   Apr    21    1.766667\n",
       "8     mguser5    pts/0  23.79.236.14  Thu   Apr    21    2.855556\n",
       "5    mguser29    pts/0  23.79.236.14  Mon   Apr    25    2.772222\n",
       "4    mguser29    pts/1  23.79.236.14  Mon   Apr    25    3.138889\n",
       "3    mguser17    pts/2  23.79.236.14  Wed   Apr    27    0.444444\n",
       "2     mguser4    pts/3  23.79.236.14  Wed   Apr    27    0.388889\n",
       "1     mguser3    pts/4  23.79.236.14  Wed   Apr    27    0.000000\n",
       "0    mguser10    pts/7  23.79.236.14  Wed   Apr    27    0.000000\n",
       "\n",
       "[331 rows x 7 columns]"
      ]
     },
     "execution_count": 105,
     "metadata": {},
     "output_type": "execute_result"
    }
   ],
   "source": [
    "time = data.sort_values(by='date')\n",
    "time"
   ]
  },
  {
   "cell_type": "code",
   "execution_count": 106,
   "metadata": {
    "collapsed": false
   },
   "outputs": [],
   "source": [
    "import matplotlib .pyplot as plt"
   ]
  },
  {
   "cell_type": "code",
   "execution_count": 107,
   "metadata": {
    "collapsed": false
   },
   "outputs": [],
   "source": [
    "fig = plt.figure()\n",
    "\n",
    "ax1=fig.add_subplot(2,2,1)\n",
    "ax2=fig.add_subplot(2,2,2)\n",
    "ax3=fig.add_subplot(2,2,3)\n",
    "ax4=fig.add_subplot(2,2,4)\n",
    "\n",
    "ax1.set_title(\"Historical Total Time\")\n",
    "ax1.set_xlabel('total_time')\n",
    "ax1.plot(data.total_time)\n",
    "\n",
    "ax2.set_title('Total Time by Index')\n",
    "ax2.set_xlabel('name')\n",
    "ax2.set_ylabel('Total Time CumSum')\n",
    "ax2.plot(data.groupby('name').total_time.cumsum())\n",
    "\n",
    "ax3.set_title('Historical Total Time')\n",
    "ax3.set_xlabel('total_time')\n",
    "ax3.hist(data.total_time, bins=10)\n",
    "\n",
    "ax4.set_title(\"Total TIme vs Date\")\n",
    "ax4.set_xlabel('date')\n",
    "ax4.set_ylabel('total time')\n",
    "ax4.scatter(data.date, data.total_time)\n",
    "plt.show()"
   ]
  },
  {
   "cell_type": "code",
   "execution_count": 108,
   "metadata": {
    "collapsed": false
   },
   "outputs": [],
   "source": [
    "plt\n",
    "plt.show()"
   ]
  },
  {
   "cell_type": "raw",
   "metadata": {},
   "source": [
    "# Munge who command\n",
    "cat who.txt | tr -s \" \" > w1.dat\n",
    "sed '/root/d' w1.dat > w2.dat\n",
    "cat w2.dat | tr \"-\" \" \" > w3.dat\n",
    "cat w3.dat | cut -d\" \" -f1,2,4,5,6,7 > w4.dat"
   ]
  },
  {
   "cell_type": "code",
   "execution_count": null,
   "metadata": {
    "collapsed": true
   },
   "outputs": [],
   "source": [
    "who = pd.read_csv(\"/home/mragy/AkamaiAcademy/project/data/phase2/who.dat\", sep=\" \",names=[\"name\", 'terminal','month', 'date', 'total_time', 'ip'])"
   ]
  },
  {
   "cell_type": "code",
   "execution_count": null,
   "metadata": {
    "collapsed": true
   },
   "outputs": [],
   "source": [
    "# corrects replacement of \":\" to \".\" in tr command\n",
    "\n",
    "who['total_time']=who['total_time'].apply(lambda x : (np.floor(x) + (x - np.floor(x))*(5/3))) "
   ]
  },
  {
   "cell_type": "code",
   "execution_count": 10,
   "metadata": {
    "collapsed": false
   },
   "outputs": [
    {
     "data": {
      "text/plain": [
       "name\n",
       "mguser14    22.305556\n",
       "mguser18    20.888889\n",
       "mguser2     22.333333\n",
       "mguser20    21.055556\n",
       "mguser4     22.472222\n",
       "mguser6     22.694444\n",
       "Name: total_time, dtype: float64"
      ]
     },
     "execution_count": 10,
     "metadata": {},
     "output_type": "execute_result"
    }
   ],
   "source": [
    "who.groupby('name').total_time.max()"
   ]
  },
  {
   "cell_type": "code",
   "execution_count": 44,
   "metadata": {
    "collapsed": true
   },
   "outputs": [
    {
     "ename": "FileNotFoundError",
     "evalue": "[Errno 2] No such file or directory: '/home/mragy/AkamaiAcademy/project/graphs/box_current_vs_historical.pdf'",
     "output_type": "error",
     "traceback": [
      "\u001b[1;31m---------------------------------------------------------------------------\u001b[0m",
      "\u001b[1;31mFileNotFoundError\u001b[0m                         Traceback (most recent call last)",
      "\u001b[1;32m<ipython-input-44-0496da177f5c>\u001b[0m in \u001b[0;36m<module>\u001b[1;34m()\u001b[0m\n\u001b[0;32m     16\u001b[0m \u001b[1;31m#plt.show()\u001b[0m\u001b[1;33m\u001b[0m\u001b[1;33m\u001b[0m\u001b[0m\n\u001b[0;32m     17\u001b[0m \u001b[1;31m#save to file instead for longterm\u001b[0m\u001b[1;33m\u001b[0m\u001b[1;33m\u001b[0m\u001b[0m\n\u001b[1;32m---> 18\u001b[1;33m \u001b[0mplt\u001b[0m\u001b[1;33m.\u001b[0m\u001b[0msavefig\u001b[0m\u001b[1;33m(\u001b[0m\u001b[1;34m'/home/mragy/AkamaiAcademy/project/graphs/box_current_vs_historical.pdf'\u001b[0m\u001b[1;33m)\u001b[0m\u001b[1;33m\u001b[0m\u001b[0m\n\u001b[0m",
      "\u001b[1;32m/home/mragy/anaconda3/lib/python3.5/site-packages/matplotlib/pyplot.py\u001b[0m in \u001b[0;36msavefig\u001b[1;34m(*args, **kwargs)\u001b[0m\n\u001b[0;32m    686\u001b[0m \u001b[1;32mdef\u001b[0m \u001b[0msavefig\u001b[0m\u001b[1;33m(\u001b[0m\u001b[1;33m*\u001b[0m\u001b[0margs\u001b[0m\u001b[1;33m,\u001b[0m \u001b[1;33m**\u001b[0m\u001b[0mkwargs\u001b[0m\u001b[1;33m)\u001b[0m\u001b[1;33m:\u001b[0m\u001b[1;33m\u001b[0m\u001b[0m\n\u001b[0;32m    687\u001b[0m     \u001b[0mfig\u001b[0m \u001b[1;33m=\u001b[0m \u001b[0mgcf\u001b[0m\u001b[1;33m(\u001b[0m\u001b[1;33m)\u001b[0m\u001b[1;33m\u001b[0m\u001b[0m\n\u001b[1;32m--> 688\u001b[1;33m     \u001b[0mres\u001b[0m \u001b[1;33m=\u001b[0m \u001b[0mfig\u001b[0m\u001b[1;33m.\u001b[0m\u001b[0msavefig\u001b[0m\u001b[1;33m(\u001b[0m\u001b[1;33m*\u001b[0m\u001b[0margs\u001b[0m\u001b[1;33m,\u001b[0m \u001b[1;33m**\u001b[0m\u001b[0mkwargs\u001b[0m\u001b[1;33m)\u001b[0m\u001b[1;33m\u001b[0m\u001b[0m\n\u001b[0m\u001b[0;32m    689\u001b[0m     \u001b[0mfig\u001b[0m\u001b[1;33m.\u001b[0m\u001b[0mcanvas\u001b[0m\u001b[1;33m.\u001b[0m\u001b[0mdraw_idle\u001b[0m\u001b[1;33m(\u001b[0m\u001b[1;33m)\u001b[0m   \u001b[1;31m# need this if 'transparent=True' to reset colors\u001b[0m\u001b[1;33m\u001b[0m\u001b[0m\n\u001b[0;32m    690\u001b[0m     \u001b[1;32mreturn\u001b[0m \u001b[0mres\u001b[0m\u001b[1;33m\u001b[0m\u001b[0m\n",
      "\u001b[1;32m/home/mragy/anaconda3/lib/python3.5/site-packages/matplotlib/figure.py\u001b[0m in \u001b[0;36msavefig\u001b[1;34m(self, *args, **kwargs)\u001b[0m\n\u001b[0;32m   1563\u001b[0m             \u001b[0mself\u001b[0m\u001b[1;33m.\u001b[0m\u001b[0mset_frameon\u001b[0m\u001b[1;33m(\u001b[0m\u001b[0mframeon\u001b[0m\u001b[1;33m)\u001b[0m\u001b[1;33m\u001b[0m\u001b[0m\n\u001b[0;32m   1564\u001b[0m \u001b[1;33m\u001b[0m\u001b[0m\n\u001b[1;32m-> 1565\u001b[1;33m         \u001b[0mself\u001b[0m\u001b[1;33m.\u001b[0m\u001b[0mcanvas\u001b[0m\u001b[1;33m.\u001b[0m\u001b[0mprint_figure\u001b[0m\u001b[1;33m(\u001b[0m\u001b[1;33m*\u001b[0m\u001b[0margs\u001b[0m\u001b[1;33m,\u001b[0m \u001b[1;33m**\u001b[0m\u001b[0mkwargs\u001b[0m\u001b[1;33m)\u001b[0m\u001b[1;33m\u001b[0m\u001b[0m\n\u001b[0m\u001b[0;32m   1566\u001b[0m \u001b[1;33m\u001b[0m\u001b[0m\n\u001b[0;32m   1567\u001b[0m         \u001b[1;32mif\u001b[0m \u001b[0mframeon\u001b[0m\u001b[1;33m:\u001b[0m\u001b[1;33m\u001b[0m\u001b[0m\n",
      "\u001b[1;32m/home/mragy/anaconda3/lib/python3.5/site-packages/matplotlib/backends/backend_qt5agg.py\u001b[0m in \u001b[0;36mprint_figure\u001b[1;34m(self, *args, **kwargs)\u001b[0m\n\u001b[0;32m    194\u001b[0m \u001b[1;33m\u001b[0m\u001b[0m\n\u001b[0;32m    195\u001b[0m     \u001b[1;32mdef\u001b[0m \u001b[0mprint_figure\u001b[0m\u001b[1;33m(\u001b[0m\u001b[0mself\u001b[0m\u001b[1;33m,\u001b[0m \u001b[1;33m*\u001b[0m\u001b[0margs\u001b[0m\u001b[1;33m,\u001b[0m \u001b[1;33m**\u001b[0m\u001b[0mkwargs\u001b[0m\u001b[1;33m)\u001b[0m\u001b[1;33m:\u001b[0m\u001b[1;33m\u001b[0m\u001b[0m\n\u001b[1;32m--> 196\u001b[1;33m         \u001b[0mFigureCanvasAgg\u001b[0m\u001b[1;33m.\u001b[0m\u001b[0mprint_figure\u001b[0m\u001b[1;33m(\u001b[0m\u001b[0mself\u001b[0m\u001b[1;33m,\u001b[0m \u001b[1;33m*\u001b[0m\u001b[0margs\u001b[0m\u001b[1;33m,\u001b[0m \u001b[1;33m**\u001b[0m\u001b[0mkwargs\u001b[0m\u001b[1;33m)\u001b[0m\u001b[1;33m\u001b[0m\u001b[0m\n\u001b[0m\u001b[0;32m    197\u001b[0m         \u001b[0mself\u001b[0m\u001b[1;33m.\u001b[0m\u001b[0mdraw\u001b[0m\u001b[1;33m(\u001b[0m\u001b[1;33m)\u001b[0m\u001b[1;33m\u001b[0m\u001b[0m\n\u001b[0;32m    198\u001b[0m \u001b[1;33m\u001b[0m\u001b[0m\n",
      "\u001b[1;32m/home/mragy/anaconda3/lib/python3.5/site-packages/matplotlib/backend_bases.py\u001b[0m in \u001b[0;36mprint_figure\u001b[1;34m(self, filename, dpi, facecolor, edgecolor, orientation, format, **kwargs)\u001b[0m\n\u001b[0;32m   2230\u001b[0m                 \u001b[0morientation\u001b[0m\u001b[1;33m=\u001b[0m\u001b[0morientation\u001b[0m\u001b[1;33m,\u001b[0m\u001b[1;33m\u001b[0m\u001b[0m\n\u001b[0;32m   2231\u001b[0m                 \u001b[0mbbox_inches_restore\u001b[0m\u001b[1;33m=\u001b[0m\u001b[0m_bbox_inches_restore\u001b[0m\u001b[1;33m,\u001b[0m\u001b[1;33m\u001b[0m\u001b[0m\n\u001b[1;32m-> 2232\u001b[1;33m                 **kwargs)\n\u001b[0m\u001b[0;32m   2233\u001b[0m         \u001b[1;32mfinally\u001b[0m\u001b[1;33m:\u001b[0m\u001b[1;33m\u001b[0m\u001b[0m\n\u001b[0;32m   2234\u001b[0m             \u001b[1;32mif\u001b[0m \u001b[0mbbox_inches\u001b[0m \u001b[1;32mand\u001b[0m \u001b[0mrestore_bbox\u001b[0m\u001b[1;33m:\u001b[0m\u001b[1;33m\u001b[0m\u001b[0m\n",
      "\u001b[1;32m/home/mragy/anaconda3/lib/python3.5/site-packages/matplotlib/backends/backend_pdf.py\u001b[0m in \u001b[0;36mprint_pdf\u001b[1;34m(self, filename, **kwargs)\u001b[0m\n\u001b[0;32m   2526\u001b[0m             \u001b[0mfile\u001b[0m \u001b[1;33m=\u001b[0m \u001b[0mfilename\u001b[0m\u001b[1;33m.\u001b[0m\u001b[0m_file\u001b[0m\u001b[1;33m\u001b[0m\u001b[0m\n\u001b[0;32m   2527\u001b[0m         \u001b[1;32melse\u001b[0m\u001b[1;33m:\u001b[0m\u001b[1;33m\u001b[0m\u001b[0m\n\u001b[1;32m-> 2528\u001b[1;33m             \u001b[0mfile\u001b[0m \u001b[1;33m=\u001b[0m \u001b[0mPdfFile\u001b[0m\u001b[1;33m(\u001b[0m\u001b[0mfilename\u001b[0m\u001b[1;33m)\u001b[0m\u001b[1;33m\u001b[0m\u001b[0m\n\u001b[0m\u001b[0;32m   2529\u001b[0m         \u001b[1;32mtry\u001b[0m\u001b[1;33m:\u001b[0m\u001b[1;33m\u001b[0m\u001b[0m\n\u001b[0;32m   2530\u001b[0m             \u001b[0mfile\u001b[0m\u001b[1;33m.\u001b[0m\u001b[0mnewPage\u001b[0m\u001b[1;33m(\u001b[0m\u001b[0mwidth\u001b[0m\u001b[1;33m,\u001b[0m \u001b[0mheight\u001b[0m\u001b[1;33m)\u001b[0m\u001b[1;33m\u001b[0m\u001b[0m\n",
      "\u001b[1;32m/home/mragy/anaconda3/lib/python3.5/site-packages/matplotlib/backends/backend_pdf.py\u001b[0m in \u001b[0;36m__init__\u001b[1;34m(self, filename)\u001b[0m\n\u001b[0;32m    420\u001b[0m         \u001b[0mself\u001b[0m\u001b[1;33m.\u001b[0m\u001b[0mtell_base\u001b[0m \u001b[1;33m=\u001b[0m \u001b[1;36m0\u001b[0m\u001b[1;33m\u001b[0m\u001b[0m\n\u001b[0;32m    421\u001b[0m         \u001b[1;32mif\u001b[0m \u001b[0mis_string_like\u001b[0m\u001b[1;33m(\u001b[0m\u001b[0mfilename\u001b[0m\u001b[1;33m)\u001b[0m\u001b[1;33m:\u001b[0m\u001b[1;33m\u001b[0m\u001b[0m\n\u001b[1;32m--> 422\u001b[1;33m             \u001b[0mfh\u001b[0m \u001b[1;33m=\u001b[0m \u001b[0mopen\u001b[0m\u001b[1;33m(\u001b[0m\u001b[0mfilename\u001b[0m\u001b[1;33m,\u001b[0m \u001b[1;34m'wb'\u001b[0m\u001b[1;33m)\u001b[0m\u001b[1;33m\u001b[0m\u001b[0m\n\u001b[0m\u001b[0;32m    423\u001b[0m         \u001b[1;32melif\u001b[0m \u001b[0mis_writable_file_like\u001b[0m\u001b[1;33m(\u001b[0m\u001b[0mfilename\u001b[0m\u001b[1;33m)\u001b[0m\u001b[1;33m:\u001b[0m\u001b[1;33m\u001b[0m\u001b[0m\n\u001b[0;32m    424\u001b[0m             \u001b[1;32mtry\u001b[0m\u001b[1;33m:\u001b[0m\u001b[1;33m\u001b[0m\u001b[0m\n",
      "\u001b[1;31mFileNotFoundError\u001b[0m: [Errno 2] No such file or directory: '/home/mragy/AkamaiAcademy/project/graphs/box_current_vs_historical.pdf'"
     ]
    }
   ],
   "source": [
    "fig = plt.figure()\n",
    "ax = fig.add_subplot(1,1,1)\n",
    "\n",
    "ax.set_title('Current Users\\' Time vs Historical Time')\n",
    "#ax.set_xlabel('Users')\n",
    "#ax.set_ylabel('Time in Hours')\n",
    "#ax.plot(data.total_time)\n",
    "#ax.plot(who.total_time, color='r')\n",
    "# this plot is confusing. change to boxplot\n",
    "\n",
    "ax.set_xlabel('Time in Hours')\n",
    "data['total_time'].plot(kind='box', color='b', label='Historical')\n",
    "who['total_time'].plot(kind='box', color='r',label='Current')\n",
    "#ax.legend()\n",
    "\n",
    "#plt.show()\n",
    "#save to file instead for longterm\n",
    "plt.savefig('/home/mragy/AkamaiAcademy/project/graphs/box_current_vs_historical.pdf')"
   ]
  },
  {
   "cell_type": "code",
   "execution_count": 74,
   "metadata": {
    "collapsed": false,
    "scrolled": true
   },
   "outputs": [
    {
     "data": {
      "text/plain": [
       "name\n",
       "mguser1     46.70\n",
       "mguser10    26.79\n",
       "mguser11    26.93\n",
       "mguser12    37.68\n",
       "mguser13    38.19\n",
       "mguser14    47.93\n",
       "mguser15    39.01\n",
       "mguser17    37.84\n",
       "mguser18    22.44\n",
       "mguser19    37.65\n",
       "mguser2     29.86\n",
       "mguser20    39.94\n",
       "mguser21    20.04\n",
       "mguser29    51.52\n",
       "mguser3     26.84\n",
       "mguser4     42.72\n",
       "mguser5     31.60\n",
       "mguser6     22.94\n",
       "mguser7     26.43\n",
       "mguser8     38.18\n",
       "mguser9     35.56\n",
       "Name: total_time, dtype: float64"
      ]
     },
     "execution_count": 74,
     "metadata": {},
     "output_type": "execute_result"
    }
   ],
   "source": [
    "# what do I actually want to visualize here? \n",
    "# each use's individual current aggregate time against the historical spread\n",
    "data.groupby('name').total_time.sum()"
   ]
  },
  {
   "cell_type": "markdown",
   "metadata": {
    "collapsed": true
   },
   "source": [
    "## End Phase2: Entering Phase2a\n"
   ]
  },
  {
   "cell_type": "code",
   "execution_count": 16,
   "metadata": {
    "collapsed": true
   },
   "outputs": [],
   "source": [
    "import pandas as pd\n",
    "import numpy as np"
   ]
  },
  {
   "cell_type": "code",
   "execution_count": 2,
   "metadata": {
    "collapsed": true
   },
   "outputs": [],
   "source": [
    "data = pd.read_csv(\"/home/mragy/AkamaiAcademy/project/phase2/data/l9.dat\", sep=\" \",names=[\"name\", 'terminal','ip', 'DOW','month', 'date', 'total_time'])"
   ]
  },
  {
   "cell_type": "code",
   "execution_count": 26,
   "metadata": {
    "collapsed": true
   },
   "outputs": [],
   "source": [
    "data['total_time']=data['total_time'].apply(lambda x : (np.floor(x)  + (x - np.floor(x))*(5/3)) "
   ]
  },
  {
   "cell_type": "code",
   "execution_count": 24,
   "metadata": {
    "collapsed": false
   },
   "outputs": [],
   "source": [
    "who = pd.read_csv(\"/home/mragy/AkamaiAcademy/project/phase2/data/who.dat\", sep=\" \",names=[\"name\", 'terminal','month', 'date', 'total_time', 'ip'])"
   ]
  },
  {
   "cell_type": "code",
   "execution_count": 25,
   "metadata": {
    "collapsed": false
   },
   "outputs": [
    {
     "data": {
      "text/plain": [
       "0    7.52\n",
       "1    8.17\n",
       "2    8.09\n",
       "3    7.58\n",
       "4    8.03\n",
       "5    8.04\n",
       "Name: total_time, dtype: float64"
      ]
     },
     "execution_count": 25,
     "metadata": {},
     "output_type": "execute_result"
    }
   ],
   "source": [
    "who['total_time']"
   ]
  },
  {
   "cell_type": "code",
   "execution_count": 32,
   "metadata": {
    "collapsed": false
   },
   "outputs": [],
   "source": [
    "who['total_time']=who['total_time'].apply(lambda x : (np.floor(x) + (x - np.floor(x))*(5/3))) "
   ]
  },
  {
   "cell_type": "code",
   "execution_count": 34,
   "metadata": {
    "collapsed": false
   },
   "outputs": [
    {
     "data": {
      "text/plain": [
       "0    8.444444\n",
       "1    8.472222\n",
       "2    8.250000\n",
       "3    8.611111\n",
       "4    8.083333\n",
       "5    8.111111\n",
       "Name: total_time, dtype: float64"
      ]
     },
     "execution_count": 34,
     "metadata": {},
     "output_type": "execute_result"
    }
   ],
   "source": [
    "who['total_time']"
   ]
  },
  {
   "cell_type": "markdown",
   "metadata": {},
   "source": [
    "# # Time Series Exploration\n",
    "may need to import seaborn"
   ]
  },
  {
   "cell_type": "code",
   "execution_count": 120,
   "metadata": {
    "collapsed": false
   },
   "outputs": [
    {
     "ename": "ImportError",
     "evalue": "No module named 'seaborn'",
     "output_type": "error",
     "traceback": [
      "\u001b[1;31m---------------------------------------------------------------------------\u001b[0m",
      "\u001b[1;31mImportError\u001b[0m                               Traceback (most recent call last)",
      "\u001b[1;32m<ipython-input-120-ed9806ce3570>\u001b[0m in \u001b[0;36m<module>\u001b[1;34m()\u001b[0m\n\u001b[1;32m----> 1\u001b[1;33m \u001b[1;32mimport\u001b[0m \u001b[0mseaborn\u001b[0m \u001b[1;32mas\u001b[0m \u001b[0msns\u001b[0m\u001b[1;33m\u001b[0m\u001b[0m\n\u001b[0m",
      "\u001b[1;31mImportError\u001b[0m: No module named 'seaborn'"
     ]
    }
   ],
   "source": [
    "import seaborn as sns"
   ]
  },
  {
   "cell_type": "code",
   "execution_count": null,
   "metadata": {
    "collapsed": true
   },
   "outputs": [],
   "source": [
    "time = data.sort_values(by='date')"
   ]
  },
  {
   "cell_type": "code",
   "execution_count": null,
   "metadata": {
    "collapsed": true
   },
   "outputs": [],
   "source": [
    "who_time = who.sort_values(by='date')"
   ]
  },
  {
   "cell_type": "code",
   "execution_count": 126,
   "metadata": {
    "collapsed": false
   },
   "outputs": [],
   "source": [
    "fig = plt.figure()\n",
    "\n",
    "ax1=fig.add_subplot(2,2,1)\n",
    "ax2=fig.add_subplot(2,2,2)\n",
    "ax3=fig.add_subplot(2,2,3)\n",
    "ax4=fig.add_subplot(2,2,4)\n",
    "\n",
    "ax1.set_title(\"Historical Total Time\")\n",
    "ax1.set_xlabel('total_time')\n",
    "ax1.plot(time.total_time)\n",
    "\n",
    "ax2.set_title('Time by Index')\n",
    "ax2.set_xlabel('name')\n",
    "ax2.set_ylabel('Total Time CumSum')\n",
    "ax2.plot(data.groupby('name').total_time.cumsum())\n",
    "\n",
    "ax3.set_title('Total Time')\n",
    "ax3.set_xlabel('total_time')\n",
    "ax3.hist(time.total_time, bins=10)\n",
    "\n",
    "ax4.set_title(\"Total TIme vs Date\")\n",
    "ax4.set_xlabel('date')\n",
    "ax4.set_ylabel('total time')\n",
    "ax4.scatter(time.date, time.total_time)\n",
    "ax4.scatter(who_time.date, who_time.total_time, color='r')\n",
    "plt.show()"
   ]
  },
  {
   "cell_type": "code",
   "execution_count": null,
   "metadata": {
    "collapsed": false
   },
   "outputs": [],
   "source": []
  },
  {
   "cell_type": "code",
   "execution_count": null,
   "metadata": {
    "collapsed": true
   },
   "outputs": [],
   "source": []
  }
 ],
 "metadata": {
  "kernelspec": {
   "display_name": "Python 3",
   "language": "python",
   "name": "python3"
  },
  "language_info": {
   "codemirror_mode": {
    "name": "ipython",
    "version": 3
   },
   "file_extension": ".py",
   "mimetype": "text/x-python",
   "name": "python",
   "nbconvert_exporter": "python",
   "pygments_lexer": "ipython3",
   "version": "3.5.1"
  }
 },
 "nbformat": 4,
 "nbformat_minor": 0
}
