{
 "cells": [
  {
   "cell_type": "markdown",
   "metadata": {},
   "source": [
    "# Akamai Technical Academy Capstone Project"
   ]
  },
  {
   "cell_type": "markdown",
   "metadata": {},
   "source": [
    "#### This is an extension of the bash program for the team project. We are instructed to find all users online and offline at one time. We are advised to user SHell scripting and Python.  Testing and exploration will be done here, rather than the command line  in order to preserve the process. Mara Worle, lead architect 4/27/16"
   ]
  },
  {
   "cell_type": "code",
   "execution_count": 1,
   "metadata": {
    "collapsed": false
   },
   "outputs": [],
   "source": [
    "import os,re\n",
    "import numpy\n",
    "import pandas as pd"
   ]
  },
  {
   "cell_type": "code",
   "execution_count": null,
   "metadata": {
    "collapsed": false
   },
   "outputs": [],
   "source": [
    "os.getcwd()"
   ]
  },
  {
   "cell_type": "code",
   "execution_count": 3,
   "metadata": {
    "collapsed": false
   },
   "outputs": [],
   "source": [
    "os.system(\"w | awk '/mragy/ {print $1;}'\")"
   ]
  },
  {
   "cell_type": "code",
   "execution_count": null,
   "metadata": {
    "collapsed": false
   },
   "outputs": [],
   "source": [
    "string = raw_input(\"Please enter the system information: \\n\")  "
   ]
  },
  {
   "cell_type": "code",
   "execution_count": 27,
   "metadata": {
    "collapsed": false
   },
   "outputs": [],
   "source": [
    " info = string.split(\",\")"
   ]
  },
  {
   "cell_type": "raw",
   "metadata": {},
   "source": [
    "Now its time to set up the python enviroment on my system.\n",
    "That means creating a new virtualenv bubble.\n",
    "$ mkdir <newproject>\n",
    "$ cd <newproject>\n",
    "$ virtualenv venv \n",
    "  # get installation notice here\n",
    "$ . venv/bin/activate \n",
    "  # once the venv is activated look for \n",
    "  # (venv)path $ \n",
    "  # type away\n",
    "$ deactivate\n",
    "  # when done"
   ]
  },
  {
   "cell_type": "code",
   "execution_count": 35,
   "metadata": {
    "collapsed": true
   },
   "outputs": [
    {
     "data": {
      "text/plain": [
       "32512"
      ]
     },
     "execution_count": 35,
     "metadata": {},
     "output_type": "execute_result"
    }
   ],
   "source": [
    "os.system(\"/home/mragy/AkamaiAcademy/project/virtualenv --version\") "
   ]
  },
  {
   "cell_type": "code",
   "execution_count": 19,
   "metadata": {
    "collapsed": true
   },
   "outputs": [
    {
     "name": "stdout",
     "output_type": "stream",
     "text": [
      "Please enter the information: mragy,:0\n"
     ]
    },
    {
     "data": {
      "text/plain": [
       "['mragy,:0']"
      ]
     },
     "execution_count": 19,
     "metadata": {},
     "output_type": "execute_result"
    }
   ],
   "source": [
    "info= raw_input(\"Please enter the information: \")\n",
    "info.split(\" \")\n"
   ]
  },
  {
   "cell_type": "code",
   "execution_count": 26,
   "metadata": {
    "collapsed": false
   },
   "outputs": [],
   "source": [
    "for i in info:\n",
    "    if re.match('^[a-zA-Z0-9_-]{3,15}$',i):\n",
    "        string = \"w | awk \\'/%s/ {print \\'%s is online.\\';}\\' > /home/mragy/AkamaiAcademy/project/online\" %(name, name)    \n",
    "        online = os.system(string)"
   ]
  },
  {
   "cell_type": "code",
   "execution_count": 6,
   "metadata": {
    "collapsed": true
   },
   "outputs": [
    {
     "data": {
      "text/plain": [
       "['docs',\n",
       " 'check_status.py',\n",
       " 'online',\n",
       " 'check_sys.sh',\n",
       " 'shared_functions.py',\n",
       " '.ipynb_checkpoints',\n",
       " 'data',\n",
       " 'diff_file',\n",
       " 'venv',\n",
       " 'DTH_Network.ipynb']"
      ]
     },
     "execution_count": 6,
     "metadata": {},
     "output_type": "execute_result"
    }
   ],
   "source": [
    "os.listdir('/home/mragy/AkamaiAcademy/project/')"
   ]
  },
  {
   "cell_type": "code",
   "execution_count": 8,
   "metadata": {
    "collapsed": false
   },
   "outputs": [],
   "source": [
    "os.system(\"cat online\") \n",
    "# in iPython Notebook this will print to the console\n",
    "# assigning os.system() to a variable still prints to the console\n",
    "    "
   ]
  },
  {
   "cell_type": "code",
   "execution_count": 28,
   "metadata": {
    "collapsed": false
   },
   "outputs": [],
   "source": [
    "# try putting all the valid information in an array of arrays\n",
    "# compare to dictionary\n",
    "valid_array = []\n",
    "names=['one','two','three']\n",
    "uids=['mguser1','mguser2','mguser3','mguser4']\n",
    "terms=['tty1','tty2']\n",
    "ips=[]\n",
    "valid_array.append(names)"
   ]
  },
  {
   "cell_type": "code",
   "execution_count": 29,
   "metadata": {
    "collapsed": false
   },
   "outputs": [],
   "source": [
    "valid_array.append(uids)"
   ]
  },
  {
   "cell_type": "code",
   "execution_count": 30,
   "metadata": {
    "collapsed": false
   },
   "outputs": [],
   "source": [
    "valid_array.append(terms)\n",
    "valid_array.append(ips)"
   ]
  },
  {
   "cell_type": "code",
   "execution_count": 31,
   "metadata": {
    "collapsed": true
   },
   "outputs": [
    {
     "data": {
      "text/plain": [
       "'mguser2'"
      ]
     },
     "execution_count": 31,
     "metadata": {},
     "output_type": "execute_result"
    }
   ],
   "source": [
    "# if i want to get mguser2\n",
    "valid_array[1][1]"
   ]
  },
  {
   "cell_type": "code",
   "execution_count": 32,
   "metadata": {
    "collapsed": true
   },
   "outputs": [
    {
     "data": {
      "text/plain": [
       "4"
      ]
     },
     "execution_count": 32,
     "metadata": {},
     "output_type": "execute_result"
    }
   ],
   "source": [
    "len(valid_array)"
   ]
  },
  {
   "cell_type": "code",
   "execution_count": 33,
   "metadata": {
    "collapsed": true
   },
   "outputs": [
    {
     "data": {
      "text/plain": [
       "0"
      ]
     },
     "execution_count": 33,
     "metadata": {},
     "output_type": "execute_result"
    }
   ],
   "source": [
    "len(valid_array[3])"
   ]
  },
  {
   "cell_type": "code",
   "execution_count": 34,
   "metadata": {
    "collapsed": false
   },
   "outputs": [],
   "source": [
    "# now try a dictionary and choose the best datatype\n",
    "valid_dict = {}\n",
    "valid_dict['names']= names\n",
    "valid_dict.update({'uids':uids})\n",
    "valid_dict['terms']=terms\n",
    "valid_dict['ips']=ips"
   ]
  },
  {
   "cell_type": "code",
   "execution_count": 35,
   "metadata": {
    "collapsed": false
   },
   "outputs": [
    {
     "data": {
      "text/plain": [
       "'mguser2'"
      ]
     },
     "execution_count": 35,
     "metadata": {},
     "output_type": "execute_result"
    }
   ],
   "source": [
    "# to access mguser2\n",
    "valid_dict[\"uids\"][1]"
   ]
  },
  {
   "cell_type": "raw",
   "metadata": {},
   "source": [
    "I think this is more intuitive. Then we can access the type of data and compare repetitions."
   ]
  },
  {
   "cell_type": "code",
   "execution_count": 36,
   "metadata": {
    "collapsed": true
   },
   "outputs": [
    {
     "data": {
      "text/plain": [
       "['one', 'two', 'three', 'four']"
      ]
     },
     "execution_count": 36,
     "metadata": {},
     "output_type": "execute_result"
    }
   ],
   "source": [
    "valid_dict['names'].append('four')\n",
    "valid_dict['names']"
   ]
  },
  {
   "cell_type": "code",
   "execution_count": 2,
   "metadata": {
    "collapsed": true
   },
   "outputs": [],
   "source": [
    "data = os.system(\"cat data.dat\")"
   ]
  },
  {
   "cell_type": "code",
   "execution_count": 3,
   "metadata": {
    "collapsed": true
   },
   "outputs": [
    {
     "data": {
      "text/plain": [
       "256"
      ]
     },
     "execution_count": 3,
     "metadata": {},
     "output_type": "execute_result"
    }
   ],
   "source": [
    "data"
   ]
  },
  {
   "cell_type": "markdown",
   "metadata": {},
   "source": [
    "## Graphs \n",
    "Moving to graphing portion of the project. THe required search for online and offline users has been completed using shell scripting. gnuPlot would be another way to go with the graphing. hOwever, I'd like to bring in python to the project since the client suggested it."
   ]
  },
  {
   "cell_type": "code",
   "execution_count": 1,
   "metadata": {
    "collapsed": false
   },
   "outputs": [],
   "source": [
    "import pandas as pd"
   ]
  },
  {
   "cell_type": "code",
   "execution_count": 4,
   "metadata": {
    "collapsed": false
   },
   "outputs": [],
   "source": [
    "last=pd.read_csv(\"/home/mragy/AkamaiAcademy/project/last_sq.txt\", sep=\"\\n\", index_col=None)  "
   ]
  },
  {
   "cell_type": "code",
   "execution_count": 50,
   "metadata": {
    "collapsed": true
   },
   "outputs": [
    {
     "data": {
      "text/html": [
       "<div>\n",
       "<table border=\"1\" class=\"dataframe\">\n",
       "  <thead>\n",
       "    <tr style=\"text-align: right;\">\n",
       "      <th></th>\n",
       "      <th>mragy pts/1 :0 Tue May 3 18:02 still logged in</th>\n",
       "    </tr>\n",
       "  </thead>\n",
       "  <tbody>\n",
       "    <tr>\n",
       "      <th>0</th>\n",
       "      <td>mragy :0 :0 Tue May 3 17:58 still logged in</td>\n",
       "    </tr>\n",
       "  </tbody>\n",
       "</table>\n",
       "</div>"
      ],
      "text/plain": [
       "  mragy pts/1 :0 Tue May 3 18:02 still logged in \n",
       "0    mragy :0 :0 Tue May 3 17:58 still logged in "
      ]
     },
     "execution_count": 50,
     "metadata": {},
     "output_type": "execute_result"
    }
   ],
   "source": [
    "last[:1]"
   ]
  },
  {
   "cell_type": "code",
   "execution_count": 59,
   "metadata": {
    "collapsed": true
   },
   "outputs": [
    {
     "data": {
      "text/plain": [
       "['',\n",
       " '',\n",
       " '',\n",
       " '',\n",
       " '',\n",
       " 'mragy',\n",
       " ':0',\n",
       " ':0',\n",
       " 'Tue',\n",
       " 'May',\n",
       " '3',\n",
       " '17:58',\n",
       " 'still',\n",
       " 'logged',\n",
       " 'in',\n",
       " '']"
      ]
     },
     "execution_count": 59,
     "metadata": {},
     "output_type": "execute_result"
    }
   ],
   "source": [
    "# read the entire dataframe into one string\n",
    "# then split according to line break or \\n\n",
    "last_arr=last.to_string(index=False).split('\\n')\n",
    "x=last_arr.__getitem__(1)\n",
    "x.split(\" \")"
   ]
  },
  {
   "cell_type": "code",
   "execution_count": 81,
   "metadata": {
    "collapsed": false
   },
   "outputs": [],
   "source": [
    "data=[]\n",
    "for i in range(len(last_arr)):\n",
    "    x=last_arr.__getitem__(i)\n",
    "    data.append(x.split(\" \"))"
   ]
  },
  {
   "cell_type": "code",
   "execution_count": 82,
   "metadata": {
    "collapsed": true
   },
   "outputs": [
    {
     "data": {
      "text/plain": [
       "'mragy'"
      ]
     },
     "execution_count": 82,
     "metadata": {},
     "output_type": "execute_result"
    }
   ],
   "source": [
    "data[1][5]"
   ]
  },
  {
   "cell_type": "code",
   "execution_count": 83,
   "metadata": {
    "collapsed": true
   },
   "outputs": [
    {
     "data": {
      "text/plain": [
       "17"
      ]
     },
     "execution_count": 83,
     "metadata": {},
     "output_type": "execute_result"
    }
   ],
   "source": [
    "len(data)"
   ]
  },
  {
   "cell_type": "code",
   "execution_count": 84,
   "metadata": {
    "collapsed": true
   },
   "outputs": [
    {
     "name": "stdout",
     "output_type": "stream",
     "text": [
      "['pts/1', '', 'system', '', '', 'system', '', '', '', 'system', '', '', 'system', 'mragy', '', 'system', '']\n"
     ]
    }
   ],
   "source": [
    "# list comprehensions \n",
    "# https://docs.python.org/2/tutorial/datastructures.html#list-comprehensions\n",
    "# squares = [x**2 for x in range(10)]\n",
    "x= [data[i][1] for i in range(len(data))]\n",
    "print(x)"
   ]
  },
  {
   "cell_type": "code",
   "execution_count": 97,
   "metadata": {
    "collapsed": false
   },
   "outputs": [
    {
     "name": "stdout",
     "output_type": "stream",
     "text": [
      "\n"
     ]
    }
   ],
   "source": [
    "print(data[10][12])"
   ]
  },
  {
   "cell_type": "code",
   "execution_count": 24,
   "metadata": {
    "collapsed": false,
    "scrolled": true
   },
   "outputs": [],
   "source": [
    "# dir(x)"
   ]
  },
  {
   "cell_type": "markdown",
   "metadata": {
    "collapsed": true
   },
   "source": [
    "## Starting over\n",
    "cleaning and munging the file in bash\n",
    "used sed"
   ]
  },
  {
   "cell_type": "code",
   "execution_count": 6,
   "metadata": {
    "collapsed": false
   },
   "outputs": [],
   "source": [
    "import pandas as pd\n",
    "import numpy as np\n",
    "\n",
    "file=pd.read_csv(\"/home/mragy/AkamaiAcademy/project/data/data.dat\", sep=\",\", index_col=None) "
   ]
  },
  {
   "cell_type": "code",
   "execution_count": 7,
   "metadata": {
    "collapsed": false
   },
   "outputs": [],
   "source": [
    "# read the entire dataframe into one string\n",
    "# then split according to line break or \\n\n",
    "string_file=file.to_string(index=False).split('\\n')\n",
    "#temp=string_file.__getitem__(1)\n",
    "#temp.split(\" \")\n"
   ]
  },
  {
   "cell_type": "code",
   "execution_count": 8,
   "metadata": {
    "collapsed": false
   },
   "outputs": [],
   "source": [
    "arr=[]\n",
    "for i in range(len(string_file)):\n",
    "    x=string_file.__getitem__(i)\n",
    "    arr.append(x.split(\" \"))"
   ]
  },
  {
   "cell_type": "code",
   "execution_count": 9,
   "metadata": {
    "collapsed": true
   },
   "outputs": [
    {
     "data": {
      "text/plain": [
       "'00.00'"
      ]
     },
     "execution_count": 9,
     "metadata": {},
     "output_type": "execute_result"
    }
   ],
   "source": [
    "arr[0][9]"
   ]
  },
  {
   "cell_type": "code",
   "execution_count": 16,
   "metadata": {
    "collapsed": false
   },
   "outputs": [],
   "source": [
    "#sum=0\n",
    "#for i in range(len(arr)):\n",
    "#    print(arr[i][9])\n",
    "    #sum += int(arr[i][9])*(5/3)\n",
    "#print(sum)"
   ]
  },
  {
   "cell_type": "code",
   "execution_count": null,
   "metadata": {
    "collapsed": true
   },
   "outputs": [],
   "source": []
  },
  {
   "cell_type": "code",
   "execution_count": 105,
   "metadata": {
    "collapsed": true
   },
   "outputs": [
    {
     "data": {
      "text/plain": [
       "[]"
      ]
     },
     "execution_count": 105,
     "metadata": {},
     "output_type": "execute_result"
    }
   ],
   "source": [
    "# put the array row in a dictionary with keys: \n",
    "# name, terminal, ip, DOW, month, date, time_on, time_off, total \n",
    "\n",
    "# try a list comprehension\n",
    "# https://www.python.org/dev/peps/pep-0274/\n",
    "\n",
    "\n",
    "dict={\"name\": [arr[k][0] for k in range(1-len(arr))]}\n",
    "#, \"terminal\":[], \"ip\":[], \"DOW\":[], \"month\":[],\"date\":[],\"time_on\":[],\"time_off\":[],\"total\":[]} \n",
    "dict[\"name\"]"
   ]
  },
  {
   "cell_type": "code",
   "execution_count": null,
   "metadata": {
    "collapsed": false
   },
   "outputs": [],
   "source": [
    "for i in range(1-len(arr)):\n",
    "    dict[\"name\"].append(arr[i][0])\n",
    "    dict[\"terminal\"].append(arr[i][1])\n",
    "    dict[\"ip\"].append(arr[i][2])\n",
    "    dict[\"DOW\"].append(arr[i][3])\n",
    "    dict[\"month\"].append(arr[i][4])\n",
    "    dict[\"date\"].append(arr[i][5])\n",
    "    dict[\"time_on\"].append(arr[i][6])\n",
    "    dict[\"time_off\"].append(arr[i][8])\n",
    "    dict[\"total\"].append(arr[i][9])"
   ]
  },
  {
   "cell_type": "code",
   "execution_count": 96,
   "metadata": {
    "collapsed": true
   },
   "outputs": [
    {
     "data": {
      "text/plain": [
       "['mara', 'worle']"
      ]
     },
     "execution_count": 96,
     "metadata": {},
     "output_type": "execute_result"
    }
   ],
   "source": [
    "arr[0][1]\n",
    "dict={\"name\":[], \"terminal\":[], \"ip\":[], \"DOW\":[], \"month\":[],\"date\":[],\"time_on\":[],\"time_off\":[],\"total\":[]} \n",
    "dict[\"name\"].append(\"mara\")\n",
    "dict[\"name\"].append(\"worle\")\n",
    "dict[\"name\"]"
   ]
  },
  {
   "cell_type": "code",
   "execution_count": null,
   "metadata": {
    "collapsed": true
   },
   "outputs": [],
   "source": [
    "# I even thought about this!\n",
    "cut -d\" \" -f1 data.dat > name.dat\n",
    "cut -d\" \" -f2 data.dat > terminal.dat\n",
    "cut -d\" \" -f3 data.dat > ip.dat\n",
    "cut -d\" \" -f4,5,6 data.dat > date.dat\n",
    "cut -d\" \" -f7,9 data.dat > time_on_off.dat\n",
    "cut -d\" \" -f10 data.dat > total_time.dat"
   ]
  },
  {
   "cell_type": "markdown",
   "metadata": {},
   "source": [
    "# Stats"
   ]
  },
  {
   "cell_type": "code",
   "execution_count": 5,
   "metadata": {
    "collapsed": true
   },
   "outputs": [
    {
     "data": {
      "text/plain": [
       "00.00    4.158048\n",
       "dtype: float64"
      ]
     },
     "execution_count": 5,
     "metadata": {},
     "output_type": "execute_result"
    }
   ],
   "source": [
    "last.std()"
   ]
  },
  {
   "cell_type": "code",
   "execution_count": 13,
   "metadata": {
    "collapsed": true
   },
   "outputs": [
    {
     "data": {
      "text/plain": [
       "00.00    187\n",
       "dtype: int64"
      ]
     },
     "execution_count": 13,
     "metadata": {},
     "output_type": "execute_result"
    }
   ],
   "source": [
    "last.count()"
   ]
  },
  {
   "cell_type": "code",
   "execution_count": null,
   "metadata": {
    "collapsed": false
   },
   "outputs": [],
   "source": [
    "x_data =[range(last.len)] \n",
    "y_data = [last.get_value(n,'1') for n in range(1,129)]  \n",
    "\n",
    "fig = plt.figure(figsize=(10,6))\n",
    "# create an axes obj\n",
    "ax = fig.add_subplot(1,1,1)\n",
    "# plot the data\n",
    "ax.scatter(x_data, y_data, color=\"blue\", marker=\".\" ) \n",
    "# add axes labels\n",
    "ax.set_xlabel(\"x\")\n",
    "ax.set_ylabel(\"y\")"
   ]
  },
  {
   "cell_type": "markdown",
   "metadata": {},
   "source": [
    "## Another Bash Munging\n",
    "\n",
    "Cleaned the data some more\n",
    "using cut to separate the fields"
   ]
  },
  {
   "cell_type": "code",
   "execution_count": 19,
   "metadata": {
    "collapsed": true
   },
   "outputs": [],
   "source": [
    "import pandas as pd\n",
    "import numpy as np\n",
    "\n",
    "time=pd.read_csv(\"/home/mragy/AkamaiAcademy/project/data/total_time.dat\", sep=\",\", index_col=None) "
   ]
  },
  {
   "cell_type": "code",
   "execution_count": 20,
   "metadata": {
    "collapsed": false
   },
   "outputs": [],
   "source": [
    "# time"
   ]
  },
  {
   "cell_type": "code",
   "execution_count": 21,
   "metadata": {
    "collapsed": false
   },
   "outputs": [
    {
     "data": {
      "text/plain": [
       "00.00    3.670657\n",
       "dtype: float64"
      ]
     },
     "execution_count": 21,
     "metadata": {},
     "output_type": "execute_result"
    }
   ],
   "source": [
    "time.mean()*(5/3)"
   ]
  },
  {
   "cell_type": "code",
   "execution_count": 22,
   "metadata": {
    "collapsed": false
   },
   "outputs": [
    {
     "data": {
      "text/plain": [
       "00.00    2.629858\n",
       "dtype: float64"
      ]
     },
     "execution_count": 22,
     "metadata": {},
     "output_type": "execute_result"
    }
   ],
   "source": [
    "time.std()*(5/3)"
   ]
  },
  {
   "cell_type": "code",
   "execution_count": 23,
   "metadata": {
    "collapsed": false
   },
   "outputs": [
    {
     "data": {
      "text/plain": [
       "00.00    9.49\n",
       "dtype: float64"
      ]
     },
     "execution_count": 23,
     "metadata": {},
     "output_type": "execute_result"
    }
   ],
   "source": [
    "time.max()"
   ]
  },
  {
   "cell_type": "code",
   "execution_count": 24,
   "metadata": {
    "collapsed": false
   },
   "outputs": [
    {
     "data": {
      "text/plain": [
       "00.00    0.0\n",
       "dtype: float64"
      ]
     },
     "execution_count": 24,
     "metadata": {},
     "output_type": "execute_result"
    }
   ],
   "source": [
    "time.min()"
   ]
  },
  {
   "cell_type": "markdown",
   "metadata": {},
   "source": [
    "## Matplotlib\n",
    "http://cs.smith.edu/dftwiki/index.php/MatPlotLib_Tutorial_1"
   ]
  },
  {
   "cell_type": "code",
   "execution_count": 25,
   "metadata": {
    "collapsed": true
   },
   "outputs": [],
   "source": [
    "import matplotlib.pyplot as plt\n",
    "import numpy as np"
   ]
  },
  {
   "cell_type": "code",
   "execution_count": 26,
   "metadata": {
    "collapsed": false
   },
   "outputs": [],
   "source": [
    "x_data = [range(len(time))] \n",
    "y_data = [time.get_value(n, \"00.00\") for n in range(len(time))]"
   ]
  },
  {
   "cell_type": "code",
   "execution_count": 27,
   "metadata": {
    "collapsed": true
   },
   "outputs": [
    {
     "data": {
      "text/plain": [
       "[0.0,\n",
       " 0.14000000000000001,\n",
       " 0.16,\n",
       " 3.0499999999999998,\n",
       " 2.1499999999999999,\n",
       " 2.1400000000000001,\n",
       " 2.1600000000000001,\n",
       " 2.1800000000000002,\n",
       " 2.25,\n",
       " 1.02,\n",
       " 2.1099999999999999,\n",
       " 3.1600000000000001,\n",
       " 2.1299999999999999,\n",
       " 2.29,\n",
       " 2.2799999999999998,\n",
       " 2.1699999999999999,\n",
       " 2.3399999999999999,\n",
       " 3.29,\n",
       " 0.0,\n",
       " 3.1099999999999999,\n",
       " 0.57999999999999996,\n",
       " 2.1800000000000002,\n",
       " 2.2799999999999998,\n",
       " 2.1299999999999999,\n",
       " 2.3500000000000001,\n",
       " 2.1699999999999999,\n",
       " 2.1099999999999999,\n",
       " 2.1800000000000002,\n",
       " 2.1099999999999999,\n",
       " 3.1299999999999999,\n",
       " 3.3700000000000001,\n",
       " 0.050000000000000003,\n",
       " 2.3100000000000001,\n",
       " 3.1800000000000002,\n",
       " 2.2000000000000002,\n",
       " 2.1099999999999999,\n",
       " 3.1099999999999999,\n",
       " 2.21,\n",
       " 4.4800000000000004,\n",
       " 2.2400000000000002,\n",
       " 0.54000000000000004,\n",
       " 4.2300000000000004,\n",
       " 7.0700000000000003,\n",
       " 2.1800000000000002,\n",
       " 3.1099999999999999,\n",
       " 5.1399999999999997,\n",
       " 0.48999999999999999,\n",
       " 3.25,\n",
       " 8.1099999999999994,\n",
       " 4.0999999999999996,\n",
       " 0.32000000000000001,\n",
       " 3.1099999999999999,\n",
       " 3.1099999999999999,\n",
       " 3.1099999999999999,\n",
       " 2.1400000000000001,\n",
       " 0.33000000000000002,\n",
       " 0.029999999999999999,\n",
       " 2.3700000000000001,\n",
       " 0.02,\n",
       " 2.2400000000000002,\n",
       " 3.1899999999999999,\n",
       " 3.1000000000000001,\n",
       " 2.1099999999999999,\n",
       " 0.089999999999999997,\n",
       " 1.3400000000000001,\n",
       " 0.52000000000000002,\n",
       " 3.1099999999999999,\n",
       " 0.34999999999999998,\n",
       " 1.47,\n",
       " 2.1699999999999999,\n",
       " 2.21,\n",
       " 0.01,\n",
       " 2.2599999999999998,\n",
       " 3.2599999999999998,\n",
       " 5.1799999999999997,\n",
       " 2.3999999999999999,\n",
       " 0.10000000000000001,\n",
       " 4.0999999999999996,\n",
       " 2.1899999999999999,\n",
       " 4.0599999999999996,\n",
       " 2.2599999999999998,\n",
       " 4.2599999999999998,\n",
       " 5.3399999999999999,\n",
       " 4.1100000000000003,\n",
       " 2.48,\n",
       " 2.1099999999999999,\n",
       " 5.1100000000000003,\n",
       " 0.040000000000000001,\n",
       " 4.1100000000000003,\n",
       " 1.1699999999999999,\n",
       " 0.29999999999999999,\n",
       " 1.47,\n",
       " 4.2199999999999998,\n",
       " 2.5299999999999998,\n",
       " 1.04,\n",
       " 2.1099999999999999,\n",
       " 2.2200000000000002,\n",
       " 0.16,\n",
       " 2.2599999999999998,\n",
       " 2.2799999999999998,\n",
       " 2.2999999999999998,\n",
       " 2.2999999999999998,\n",
       " 2.3199999999999998,\n",
       " 0.089999999999999997,\n",
       " 2.1099999999999999,\n",
       " 2.3700000000000001,\n",
       " 3.1099999999999999,\n",
       " 0.050000000000000003,\n",
       " 0.02,\n",
       " 2.3999999999999999,\n",
       " 2.1400000000000001,\n",
       " 3.1000000000000001,\n",
       " 3.1000000000000001,\n",
       " 3.1099999999999999,\n",
       " 2.1600000000000001,\n",
       " 2.1099999999999999,\n",
       " 3.21,\n",
       " 0.22,\n",
       " 2.1099999999999999,\n",
       " 2.1299999999999999,\n",
       " 3.29,\n",
       " 0.56999999999999995,\n",
       " 2.1899999999999999,\n",
       " 1.1299999999999999,\n",
       " 5.1100000000000003,\n",
       " 4.2199999999999998,\n",
       " 0.14000000000000001,\n",
       " 2.21,\n",
       " 2.23,\n",
       " 5.2800000000000002,\n",
       " 3.1099999999999999,\n",
       " 0.059999999999999998,\n",
       " 2.1600000000000001,\n",
       " 2.21,\n",
       " 0.20000000000000001,\n",
       " 0.17000000000000001,\n",
       " 0.20000000000000001,\n",
       " 2.21,\n",
       " 2.4399999999999999,\n",
       " 2.3500000000000001,\n",
       " 2.3399999999999999,\n",
       " 0.38,\n",
       " 0.56000000000000005,\n",
       " 2.1099999999999999,\n",
       " 0.029999999999999999,\n",
       " 2.1200000000000001,\n",
       " 0.34999999999999998,\n",
       " 2.4500000000000002,\n",
       " 2.1499999999999999,\n",
       " 2.1499999999999999,\n",
       " 3.1099999999999999,\n",
       " 3.1099999999999999,\n",
       " 3.2799999999999998,\n",
       " 3.1099999999999999,\n",
       " 3.2799999999999998,\n",
       " 0.040000000000000001,\n",
       " 3.3199999999999998,\n",
       " 3.3199999999999998,\n",
       " 3.1099999999999999,\n",
       " 3.3599999999999999,\n",
       " 2.1400000000000001,\n",
       " 1.3700000000000001,\n",
       " 2.1099999999999999,\n",
       " 1.26,\n",
       " 3.1099999999999999,\n",
       " 3.1200000000000001,\n",
       " 2.3500000000000001,\n",
       " 3.1200000000000001,\n",
       " 2.4500000000000002,\n",
       " 2.1899999999999999,\n",
       " 3.1099999999999999,\n",
       " 0.0,\n",
       " 6.1100000000000003,\n",
       " 4.0999999999999996,\n",
       " 4.2000000000000002,\n",
       " 2.5499999999999998,\n",
       " 0.0,\n",
       " 0.0,\n",
       " 2.1099999999999999,\n",
       " 3.1099999999999999,\n",
       " 0.20000000000000001,\n",
       " 7.1100000000000003,\n",
       " 8.1500000000000004,\n",
       " 2.1699999999999999,\n",
       " 0.14999999999999999,\n",
       " 0.12,\n",
       " 5.1100000000000003,\n",
       " 1.1599999999999999,\n",
       " 0.28000000000000003,\n",
       " 2.3900000000000001,\n",
       " 0.51000000000000001,\n",
       " 2.3799999999999999,\n",
       " 2.1699999999999999,\n",
       " 1.51,\n",
       " 1.52,\n",
       " 1.0800000000000001,\n",
       " 4.1100000000000003,\n",
       " 1.49,\n",
       " 2.0099999999999998,\n",
       " 1.3600000000000001,\n",
       " 0.40999999999999998,\n",
       " 0.46000000000000002,\n",
       " 2.0600000000000001,\n",
       " 2.1400000000000001,\n",
       " 3.1899999999999999,\n",
       " 4.3399999999999999,\n",
       " 2.2799999999999998,\n",
       " 0.02,\n",
       " 2.0099999999999998,\n",
       " 0.070000000000000007,\n",
       " 2.0499999999999998,\n",
       " 2.1600000000000001,\n",
       " 2.2200000000000002,\n",
       " 9.4900000000000002,\n",
       " 0.16,\n",
       " 2.4100000000000001,\n",
       " 2.4199999999999999,\n",
       " 0.37,\n",
       " 2.5499999999999998,\n",
       " 3.1400000000000001,\n",
       " 0.22,\n",
       " 8.1099999999999994,\n",
       " 3.3999999999999999,\n",
       " 2.1800000000000002,\n",
       " 0.12,\n",
       " 2.2400000000000002,\n",
       " 3.1000000000000001,\n",
       " 2.0,\n",
       " 4.4000000000000004,\n",
       " 4.4400000000000004,\n",
       " 4.5,\n",
       " 3.1000000000000001,\n",
       " 0.5,\n",
       " 3.1000000000000001,\n",
       " 3.1000000000000001,\n",
       " 0.45000000000000001,\n",
       " 0.13,\n",
       " 3.21,\n",
       " 6.2300000000000004,\n",
       " 5.0700000000000003,\n",
       " 2.1099999999999999,\n",
       " 5.0899999999999999,\n",
       " 3.1000000000000001,\n",
       " 5.1100000000000003,\n",
       " 5.0999999999999996,\n",
       " 0.059999999999999998,\n",
       " 0.029999999999999999,\n",
       " 0.11,\n",
       " 2.29,\n",
       " 2.2599999999999998,\n",
       " 2.2799999999999998,\n",
       " 0.55000000000000004,\n",
       " 0.040000000000000001,\n",
       " 2.2400000000000002,\n",
       " 1.1200000000000001,\n",
       " 1.3600000000000001,\n",
       " 2.0,\n",
       " 4.0,\n",
       " 1.52,\n",
       " 3.1000000000000001,\n",
       " 0.01,\n",
       " 3.2200000000000002,\n",
       " 1.1299999999999999,\n",
       " 2.3100000000000001,\n",
       " 2.2400000000000002,\n",
       " 3.2200000000000002,\n",
       " 0.27000000000000002,\n",
       " 2.1000000000000001,\n",
       " 0.37,\n",
       " 0.14000000000000001,\n",
       " 4.1600000000000001,\n",
       " 4.2199999999999998,\n",
       " 0.55000000000000004,\n",
       " 2.3199999999999998,\n",
       " 0.37,\n",
       " 1.26,\n",
       " 2.2200000000000002,\n",
       " 2.2799999999999998,\n",
       " 2.1400000000000001,\n",
       " 4.3899999999999997,\n",
       " 2.1099999999999999,\n",
       " 0.02,\n",
       " 2.1499999999999999,\n",
       " 2.1899999999999999,\n",
       " 2.21,\n",
       " 2.2200000000000002,\n",
       " 2.2000000000000002,\n",
       " 2.1899999999999999,\n",
       " 3.1499999999999999,\n",
       " 2.3799999999999999,\n",
       " 3.1000000000000001,\n",
       " 3.1000000000000001,\n",
       " 3.1099999999999999,\n",
       " 0.01,\n",
       " 3.1099999999999999,\n",
       " 3.1200000000000001,\n",
       " 3.2400000000000002,\n",
       " 3.0299999999999998,\n",
       " 0.02,\n",
       " 2.1200000000000001,\n",
       " 3.1000000000000001,\n",
       " 2.2799999999999998,\n",
       " 2.1499999999999999,\n",
       " 3.4100000000000001,\n",
       " 1.5800000000000001,\n",
       " 3.1099999999999999,\n",
       " 2.1099999999999999,\n",
       " 0.14000000000000001,\n",
       " 0.01,\n",
       " 0.0,\n",
       " 0.0,\n",
       " 2.1200000000000001,\n",
       " 2.1099999999999999,\n",
       " 2.21,\n",
       " 0.070000000000000007,\n",
       " 2.1299999999999999,\n",
       " 0.050000000000000003,\n",
       " 2.1099999999999999,\n",
       " 0.01,\n",
       " 2.1600000000000001,\n",
       " 2.1099999999999999,\n",
       " 0.20999999999999999,\n",
       " 2.1899999999999999,\n",
       " 2.3100000000000001,\n",
       " 2.23,\n",
       " 0.089999999999999997,\n",
       " 2.1899999999999999,\n",
       " 2.2200000000000002,\n",
       " 0.080000000000000002,\n",
       " 0.059999999999999998]"
      ]
     },
     "execution_count": 27,
     "metadata": {},
     "output_type": "execute_result"
    }
   ],
   "source": [
    "y_data"
   ]
  },
  {
   "cell_type": "code",
   "execution_count": 28,
   "metadata": {
    "collapsed": false
   },
   "outputs": [],
   "source": [
    "fig1 = plt.figure()\n",
    "ax1=fig1.add_subplot(111)\n",
    "ax1.boxplot(y_data)\n",
    "plt.show()\n",
    "#fileName = \"/home/mragy/AkamaiAcademy/project/graphs/boxplot1.png\"\n",
    "#fig1.savefig(fileName, format=\"png\")"
   ]
  },
  {
   "cell_type": "code",
   "execution_count": 29,
   "metadata": {
    "collapsed": false
   },
   "outputs": [],
   "source": [
    "fig2 = plt.figure()\n",
    "ax2=fig2.add_subplot(111)\n",
    "ax2.plot(y_data)\n",
    "plt.show()\n",
    "#fileName = \"/home/mragy/AkamaiAcademy/project/graphs/plot1.png\"\n",
    "#fig2.savefig(fileName, format=\"png\")"
   ]
  },
  {
   "cell_type": "markdown",
   "metadata": {
    "collapsed": true
   },
   "source": [
    "# PDF or Export Notebook\n",
    "in order to make a pdf copy\n",
    "sudo apt-get install pandoc\n",
    "sudo apt-get install texlive-latex-base\n",
    "or if that fails: just download as HTML and from the browser copy as pdf\n"
   ]
  },
  {
   "cell_type": "markdown",
   "metadata": {},
   "source": [
    "## Python for Data Analysis\n",
    "\n",
    "haven't given up on pandas :)"
   ]
  },
  {
   "cell_type": "code",
   "execution_count": 6,
   "metadata": {
    "collapsed": true
   },
   "outputs": [],
   "source": [
    "import pandas as pd\n",
    "import numpy as np"
   ]
  },
  {
   "cell_type": "code",
   "execution_count": 7,
   "metadata": {
    "collapsed": true
   },
   "outputs": [],
   "source": [
    "data = pd.read_csv(\"/home/mragy/AkamaiAcademy/project/phase2/data/l9.dat\", sep=\" \",names=[\"name\", 'terminal','ip', 'DOW','month', 'date', 'total_time'])"
   ]
  },
  {
   "cell_type": "code",
   "execution_count": 8,
   "metadata": {
    "collapsed": false
   },
   "outputs": [],
   "source": [
    "# corrects the replacement of \":\" to \".\" in tr command\n",
    "\n",
    "data['total_time']=data['total_time'].apply(lambda x : (np.floor(x)  + (x - np.floor(x))*(5/3))) "
   ]
  },
  {
   "cell_type": "code",
   "execution_count": 9,
   "metadata": {
    "collapsed": false
   },
   "outputs": [
    {
     "data": {
      "text/html": [
       "<div>\n",
       "<table border=\"1\" class=\"dataframe\">\n",
       "  <thead>\n",
       "    <tr style=\"text-align: right;\">\n",
       "      <th></th>\n",
       "      <th>date</th>\n",
       "      <th>total_time</th>\n",
       "    </tr>\n",
       "  </thead>\n",
       "  <tbody>\n",
       "    <tr>\n",
       "      <th>count</th>\n",
       "      <td>331.000000</td>\n",
       "      <td>331.000000</td>\n",
       "    </tr>\n",
       "    <tr>\n",
       "      <th>mean</th>\n",
       "      <td>15.867069</td>\n",
       "      <td>2.330262</td>\n",
       "    </tr>\n",
       "    <tr>\n",
       "      <th>std</th>\n",
       "      <td>3.503311</td>\n",
       "      <td>1.586999</td>\n",
       "    </tr>\n",
       "    <tr>\n",
       "      <th>min</th>\n",
       "      <td>11.000000</td>\n",
       "      <td>0.000000</td>\n",
       "    </tr>\n",
       "    <tr>\n",
       "      <th>25%</th>\n",
       "      <td>12.000000</td>\n",
       "      <td>1.166667</td>\n",
       "    </tr>\n",
       "    <tr>\n",
       "      <th>50%</th>\n",
       "      <td>15.000000</td>\n",
       "      <td>2.316667</td>\n",
       "    </tr>\n",
       "    <tr>\n",
       "      <th>75%</th>\n",
       "      <td>19.000000</td>\n",
       "      <td>3.183333</td>\n",
       "    </tr>\n",
       "    <tr>\n",
       "      <th>max</th>\n",
       "      <td>27.000000</td>\n",
       "      <td>9.816667</td>\n",
       "    </tr>\n",
       "  </tbody>\n",
       "</table>\n",
       "</div>"
      ],
      "text/plain": [
       "             date  total_time\n",
       "count  331.000000  331.000000\n",
       "mean    15.867069    2.330262\n",
       "std      3.503311    1.586999\n",
       "min     11.000000    0.000000\n",
       "25%     12.000000    1.166667\n",
       "50%     15.000000    2.316667\n",
       "75%     19.000000    3.183333\n",
       "max     27.000000    9.816667"
      ]
     },
     "execution_count": 9,
     "metadata": {},
     "output_type": "execute_result"
    }
   ],
   "source": [
    "data.describe()"
   ]
  },
  {
   "cell_type": "code",
   "execution_count": 11,
   "metadata": {
    "collapsed": false
   },
   "outputs": [
    {
     "data": {
      "text/plain": [
       "name\n",
       "mguser1     48.500000\n",
       "mguser10    28.650000\n",
       "mguser11    28.883333\n",
       "mguser12    40.133333\n",
       "mguser13    40.983333\n",
       "mguser14    49.883333\n",
       "mguser15    41.016667\n",
       "mguser17    40.400000\n",
       "mguser18    25.400000\n",
       "mguser19    38.750000\n",
       "mguser2     31.766667\n",
       "mguser20    41.900000\n",
       "mguser21    21.400000\n",
       "mguser29    53.200000\n",
       "mguser3     28.733333\n",
       "mguser4     45.866667\n",
       "mguser5     34.000000\n",
       "mguser6     24.900000\n",
       "mguser7     28.050000\n",
       "mguser8     40.300000\n",
       "mguser9     38.600000\n",
       "Name: total_time, dtype: float64"
      ]
     },
     "execution_count": 11,
     "metadata": {},
     "output_type": "execute_result"
    }
   ],
   "source": [
    "data.groupby('name').total_time.sum()"
   ]
  },
  {
   "cell_type": "code",
   "execution_count": 12,
   "metadata": {
    "collapsed": false
   },
   "outputs": [
    {
     "data": {
      "text/plain": [
       "name\n",
       "mguser1     8.183333\n",
       "mguser10    3.183333\n",
       "mguser11    6.183333\n",
       "mguser12    3.433333\n",
       "mguser13    4.733333\n",
       "mguser14    8.250000\n",
       "mguser15    4.366667\n",
       "mguser17    4.433333\n",
       "mguser18    4.666667\n",
       "mguser19    9.816667\n",
       "mguser2     4.383333\n",
       "mguser20    5.300000\n",
       "mguser21    4.183333\n",
       "mguser29    8.183333\n",
       "mguser3     4.183333\n",
       "mguser4     5.183333\n",
       "mguser5     5.183333\n",
       "mguser6     3.300000\n",
       "mguser7     3.666667\n",
       "mguser8     5.150000\n",
       "mguser9     4.183333\n",
       "Name: total_time, dtype: float64"
      ]
     },
     "execution_count": 12,
     "metadata": {},
     "output_type": "execute_result"
    }
   ],
   "source": [
    "data.groupby('name').total_time.max()"
   ]
  },
  {
   "cell_type": "code",
   "execution_count": 13,
   "metadata": {
    "collapsed": false
   },
   "outputs": [
    {
     "data": {
      "text/plain": [
       "date\n",
       "11     41.950000\n",
       "12    119.300000\n",
       "14    155.483333\n",
       "15    134.666667\n",
       "19    180.450000\n",
       "20    123.383333\n",
       "21     10.250000\n",
       "25      5.333333\n",
       "27      0.500000\n",
       "Name: total_time, dtype: float64"
      ]
     },
     "execution_count": 13,
     "metadata": {},
     "output_type": "execute_result"
    }
   ],
   "source": [
    "data.groupby('date').total_time.sum()"
   ]
  },
  {
   "cell_type": "code",
   "execution_count": 14,
   "metadata": {
    "collapsed": false
   },
   "outputs": [
    {
     "data": {
      "text/plain": [
       "DOW\n",
       "Fri    134.666667\n",
       "Mon     47.283333\n",
       "Thu    165.733333\n",
       "Tue    299.750000\n",
       "Wed    123.883333\n",
       "Name: total_time, dtype: float64"
      ]
     },
     "execution_count": 14,
     "metadata": {},
     "output_type": "execute_result"
    }
   ],
   "source": [
    "data.groupby('DOW').total_time.sum()"
   ]
  },
  {
   "cell_type": "code",
   "execution_count": null,
   "metadata": {
    "collapsed": true
   },
   "outputs": [],
   "source": []
  },
  {
   "cell_type": "code",
   "execution_count": 15,
   "metadata": {
    "collapsed": false
   },
   "outputs": [
    {
     "data": {
      "text/plain": [
       "1.586999412924601"
      ]
     },
     "execution_count": 15,
     "metadata": {},
     "output_type": "execute_result"
    }
   ],
   "source": [
    "data.total_time.std()"
   ]
  },
  {
   "cell_type": "code",
   "execution_count": 16,
   "metadata": {
    "collapsed": false
   },
   "outputs": [],
   "source": [
    "users= data.sort_values(by='name')\n",
    "users.index = range(1, len(users) + 1)"
   ]
  },
  {
   "cell_type": "code",
   "execution_count": 17,
   "metadata": {
    "collapsed": false
   },
   "outputs": [
    {
     "data": {
      "text/plain": [
       "name\n",
       "mguser1     48.500000\n",
       "mguser10    28.650000\n",
       "mguser11    28.883333\n",
       "mguser12    40.133333\n",
       "mguser13    40.983333\n",
       "mguser14    49.883333\n",
       "mguser15    41.016667\n",
       "mguser17    40.400000\n",
       "mguser18    25.400000\n",
       "mguser19    38.750000\n",
       "mguser2     31.766667\n",
       "mguser20    41.900000\n",
       "mguser21    21.400000\n",
       "mguser29    53.200000\n",
       "mguser3     28.733333\n",
       "mguser4     45.866667\n",
       "mguser5     34.000000\n",
       "mguser6     24.900000\n",
       "mguser7     28.050000\n",
       "mguser8     40.300000\n",
       "mguser9     38.600000\n",
       "Name: total_time, dtype: float64"
      ]
     },
     "execution_count": 17,
     "metadata": {},
     "output_type": "execute_result"
    }
   ],
   "source": [
    "users.groupby('name').total_time.sum()"
   ]
  },
  {
   "cell_type": "code",
   "execution_count": 18,
   "metadata": {
    "collapsed": false
   },
   "outputs": [
    {
     "name": "stderr",
     "output_type": "stream",
     "text": [
      "/home/mragy/anaconda3/lib/python3.5/site-packages/ipykernel/__main__.py:1: FutureWarning: sort(columns=....) is deprecated, use sort_values(by=.....)\n",
      "  if __name__ == '__main__':\n"
     ]
    }
   ],
   "source": [
    "users = users.sort('name')"
   ]
  },
  {
   "cell_type": "code",
   "execution_count": 19,
   "metadata": {
    "collapsed": false
   },
   "outputs": [],
   "source": [
    "time = data.sort_values(by='date')"
   ]
  },
  {
   "cell_type": "code",
   "execution_count": 11,
   "metadata": {
    "collapsed": false
   },
   "outputs": [],
   "source": [
    "import matplotlib .pyplot as plt"
   ]
  },
  {
   "cell_type": "code",
   "execution_count": 21,
   "metadata": {
    "collapsed": false
   },
   "outputs": [],
   "source": [
    "fig = plt.figure()\n",
    "\n",
    "ax1=fig.add_subplot(2,2,1)\n",
    "ax2=fig.add_subplot(2,2,2)\n",
    "ax3=fig.add_subplot(2,2,3)\n",
    "ax4=fig.add_subplot(2,2,4)\n",
    "\n",
    "ax1.set_title(\"Historical Total Time\")\n",
    "ax1.set_xlabel('total_time')\n",
    "ax1.plot(data.total_time)\n",
    "\n",
    "ax2.set_title('Total Time by Index')\n",
    "ax2.set_xlabel('name')\n",
    "ax2.set_ylabel('Total Time CumSum')\n",
    "ax2.plot(data.groupby('name').total_time.cumsum())\n",
    "\n",
    "ax3.set_title('Historical Total Time')\n",
    "ax3.set_xlabel('total_time')\n",
    "ax3.hist(data.total_time, bins=10)\n",
    "\n",
    "ax4.set_title(\"Total TIme vs Date\")\n",
    "ax4.set_xlabel('date')\n",
    "ax4.set_ylabel('total time')\n",
    "ax4.scatter(data.date, data.total_time)\n",
    "plt.show()"
   ]
  },
  {
   "cell_type": "code",
   "execution_count": 108,
   "metadata": {
    "collapsed": false
   },
   "outputs": [],
   "source": [
    "plt\n",
    "plt.show()"
   ]
  },
  {
   "cell_type": "raw",
   "metadata": {},
   "source": [
    "# Munge who command\n",
    "cat who.txt | tr -s \" \" > w1.dat\n",
    "sed '/root/d' w1.dat > w2.dat\n",
    "cat w2.dat | tr \"-\" \" \" > w3.dat\n",
    "cat w3.dat | cut -d\" \" -f1,2,4,5,6,7 > w4.dat"
   ]
  },
  {
   "cell_type": "code",
   "execution_count": 22,
   "metadata": {
    "collapsed": false
   },
   "outputs": [
    {
     "ename": "OSError",
     "evalue": "File b'/home/mragy/AkamaiAcademy/project/data/phase2/who.dat' does not exist",
     "output_type": "error",
     "traceback": [
      "\u001b[1;31m---------------------------------------------------------------------------\u001b[0m",
      "\u001b[1;31mOSError\u001b[0m                                   Traceback (most recent call last)",
      "\u001b[1;32m<ipython-input-22-5972b2456ed4>\u001b[0m in \u001b[0;36m<module>\u001b[1;34m()\u001b[0m\n\u001b[1;32m----> 1\u001b[1;33m \u001b[0mwho\u001b[0m \u001b[1;33m=\u001b[0m \u001b[0mpd\u001b[0m\u001b[1;33m.\u001b[0m\u001b[0mread_csv\u001b[0m\u001b[1;33m(\u001b[0m\u001b[1;34m\"/home/mragy/AkamaiAcademy/project/data/phase2/who.dat\"\u001b[0m\u001b[1;33m,\u001b[0m \u001b[0msep\u001b[0m\u001b[1;33m=\u001b[0m\u001b[1;34m\" \"\u001b[0m\u001b[1;33m,\u001b[0m\u001b[0mnames\u001b[0m\u001b[1;33m=\u001b[0m\u001b[1;33m[\u001b[0m\u001b[1;34m\"name\"\u001b[0m\u001b[1;33m,\u001b[0m \u001b[1;34m'terminal'\u001b[0m\u001b[1;33m,\u001b[0m\u001b[1;34m'month'\u001b[0m\u001b[1;33m,\u001b[0m \u001b[1;34m'date'\u001b[0m\u001b[1;33m,\u001b[0m \u001b[1;34m'total_time'\u001b[0m\u001b[1;33m,\u001b[0m \u001b[1;34m'ip'\u001b[0m\u001b[1;33m]\u001b[0m\u001b[1;33m)\u001b[0m\u001b[1;33m\u001b[0m\u001b[0m\n\u001b[0m",
      "\u001b[1;32m/home/mragy/anaconda3/lib/python3.5/site-packages/pandas/io/parsers.py\u001b[0m in \u001b[0;36mparser_f\u001b[1;34m(filepath_or_buffer, sep, delimiter, header, names, index_col, usecols, squeeze, prefix, mangle_dupe_cols, dtype, engine, converters, true_values, false_values, skipinitialspace, skiprows, skipfooter, nrows, na_values, keep_default_na, na_filter, verbose, skip_blank_lines, parse_dates, infer_datetime_format, keep_date_col, date_parser, dayfirst, iterator, chunksize, compression, thousands, decimal, lineterminator, quotechar, quoting, escapechar, comment, encoding, dialect, tupleize_cols, error_bad_lines, warn_bad_lines, skip_footer, doublequote, delim_whitespace, as_recarray, compact_ints, use_unsigned, low_memory, buffer_lines, memory_map, float_precision)\u001b[0m\n\u001b[0;32m    527\u001b[0m                     skip_blank_lines=skip_blank_lines)\n\u001b[0;32m    528\u001b[0m \u001b[1;33m\u001b[0m\u001b[0m\n\u001b[1;32m--> 529\u001b[1;33m         \u001b[1;32mreturn\u001b[0m \u001b[0m_read\u001b[0m\u001b[1;33m(\u001b[0m\u001b[0mfilepath_or_buffer\u001b[0m\u001b[1;33m,\u001b[0m \u001b[0mkwds\u001b[0m\u001b[1;33m)\u001b[0m\u001b[1;33m\u001b[0m\u001b[0m\n\u001b[0m\u001b[0;32m    530\u001b[0m \u001b[1;33m\u001b[0m\u001b[0m\n\u001b[0;32m    531\u001b[0m     \u001b[0mparser_f\u001b[0m\u001b[1;33m.\u001b[0m\u001b[0m__name__\u001b[0m \u001b[1;33m=\u001b[0m \u001b[0mname\u001b[0m\u001b[1;33m\u001b[0m\u001b[0m\n",
      "\u001b[1;32m/home/mragy/anaconda3/lib/python3.5/site-packages/pandas/io/parsers.py\u001b[0m in \u001b[0;36m_read\u001b[1;34m(filepath_or_buffer, kwds)\u001b[0m\n\u001b[0;32m    293\u001b[0m \u001b[1;33m\u001b[0m\u001b[0m\n\u001b[0;32m    294\u001b[0m     \u001b[1;31m# Create the parser.\u001b[0m\u001b[1;33m\u001b[0m\u001b[1;33m\u001b[0m\u001b[0m\n\u001b[1;32m--> 295\u001b[1;33m     \u001b[0mparser\u001b[0m \u001b[1;33m=\u001b[0m \u001b[0mTextFileReader\u001b[0m\u001b[1;33m(\u001b[0m\u001b[0mfilepath_or_buffer\u001b[0m\u001b[1;33m,\u001b[0m \u001b[1;33m**\u001b[0m\u001b[0mkwds\u001b[0m\u001b[1;33m)\u001b[0m\u001b[1;33m\u001b[0m\u001b[0m\n\u001b[0m\u001b[0;32m    296\u001b[0m \u001b[1;33m\u001b[0m\u001b[0m\n\u001b[0;32m    297\u001b[0m     \u001b[1;32mif\u001b[0m \u001b[1;33m(\u001b[0m\u001b[0mnrows\u001b[0m \u001b[1;32mis\u001b[0m \u001b[1;32mnot\u001b[0m \u001b[1;32mNone\u001b[0m\u001b[1;33m)\u001b[0m \u001b[1;32mand\u001b[0m \u001b[1;33m(\u001b[0m\u001b[0mchunksize\u001b[0m \u001b[1;32mis\u001b[0m \u001b[1;32mnot\u001b[0m \u001b[1;32mNone\u001b[0m\u001b[1;33m)\u001b[0m\u001b[1;33m:\u001b[0m\u001b[1;33m\u001b[0m\u001b[0m\n",
      "\u001b[1;32m/home/mragy/anaconda3/lib/python3.5/site-packages/pandas/io/parsers.py\u001b[0m in \u001b[0;36m__init__\u001b[1;34m(self, f, engine, **kwds)\u001b[0m\n\u001b[0;32m    610\u001b[0m             \u001b[0mself\u001b[0m\u001b[1;33m.\u001b[0m\u001b[0moptions\u001b[0m\u001b[1;33m[\u001b[0m\u001b[1;34m'has_index_names'\u001b[0m\u001b[1;33m]\u001b[0m \u001b[1;33m=\u001b[0m \u001b[0mkwds\u001b[0m\u001b[1;33m[\u001b[0m\u001b[1;34m'has_index_names'\u001b[0m\u001b[1;33m]\u001b[0m\u001b[1;33m\u001b[0m\u001b[0m\n\u001b[0;32m    611\u001b[0m \u001b[1;33m\u001b[0m\u001b[0m\n\u001b[1;32m--> 612\u001b[1;33m         \u001b[0mself\u001b[0m\u001b[1;33m.\u001b[0m\u001b[0m_make_engine\u001b[0m\u001b[1;33m(\u001b[0m\u001b[0mself\u001b[0m\u001b[1;33m.\u001b[0m\u001b[0mengine\u001b[0m\u001b[1;33m)\u001b[0m\u001b[1;33m\u001b[0m\u001b[0m\n\u001b[0m\u001b[0;32m    613\u001b[0m \u001b[1;33m\u001b[0m\u001b[0m\n\u001b[0;32m    614\u001b[0m     \u001b[1;32mdef\u001b[0m \u001b[0m_get_options_with_defaults\u001b[0m\u001b[1;33m(\u001b[0m\u001b[0mself\u001b[0m\u001b[1;33m,\u001b[0m \u001b[0mengine\u001b[0m\u001b[1;33m)\u001b[0m\u001b[1;33m:\u001b[0m\u001b[1;33m\u001b[0m\u001b[0m\n",
      "\u001b[1;32m/home/mragy/anaconda3/lib/python3.5/site-packages/pandas/io/parsers.py\u001b[0m in \u001b[0;36m_make_engine\u001b[1;34m(self, engine)\u001b[0m\n\u001b[0;32m    745\u001b[0m     \u001b[1;32mdef\u001b[0m \u001b[0m_make_engine\u001b[0m\u001b[1;33m(\u001b[0m\u001b[0mself\u001b[0m\u001b[1;33m,\u001b[0m \u001b[0mengine\u001b[0m\u001b[1;33m=\u001b[0m\u001b[1;34m'c'\u001b[0m\u001b[1;33m)\u001b[0m\u001b[1;33m:\u001b[0m\u001b[1;33m\u001b[0m\u001b[0m\n\u001b[0;32m    746\u001b[0m         \u001b[1;32mif\u001b[0m \u001b[0mengine\u001b[0m \u001b[1;33m==\u001b[0m \u001b[1;34m'c'\u001b[0m\u001b[1;33m:\u001b[0m\u001b[1;33m\u001b[0m\u001b[0m\n\u001b[1;32m--> 747\u001b[1;33m             \u001b[0mself\u001b[0m\u001b[1;33m.\u001b[0m\u001b[0m_engine\u001b[0m \u001b[1;33m=\u001b[0m \u001b[0mCParserWrapper\u001b[0m\u001b[1;33m(\u001b[0m\u001b[0mself\u001b[0m\u001b[1;33m.\u001b[0m\u001b[0mf\u001b[0m\u001b[1;33m,\u001b[0m \u001b[1;33m**\u001b[0m\u001b[0mself\u001b[0m\u001b[1;33m.\u001b[0m\u001b[0moptions\u001b[0m\u001b[1;33m)\u001b[0m\u001b[1;33m\u001b[0m\u001b[0m\n\u001b[0m\u001b[0;32m    748\u001b[0m         \u001b[1;32melse\u001b[0m\u001b[1;33m:\u001b[0m\u001b[1;33m\u001b[0m\u001b[0m\n\u001b[0;32m    749\u001b[0m             \u001b[1;32mif\u001b[0m \u001b[0mengine\u001b[0m \u001b[1;33m==\u001b[0m \u001b[1;34m'python'\u001b[0m\u001b[1;33m:\u001b[0m\u001b[1;33m\u001b[0m\u001b[0m\n",
      "\u001b[1;32m/home/mragy/anaconda3/lib/python3.5/site-packages/pandas/io/parsers.py\u001b[0m in \u001b[0;36m__init__\u001b[1;34m(self, src, **kwds)\u001b[0m\n\u001b[0;32m   1117\u001b[0m         \u001b[0mkwds\u001b[0m\u001b[1;33m[\u001b[0m\u001b[1;34m'allow_leading_cols'\u001b[0m\u001b[1;33m]\u001b[0m \u001b[1;33m=\u001b[0m \u001b[0mself\u001b[0m\u001b[1;33m.\u001b[0m\u001b[0mindex_col\u001b[0m \u001b[1;32mis\u001b[0m \u001b[1;32mnot\u001b[0m \u001b[1;32mFalse\u001b[0m\u001b[1;33m\u001b[0m\u001b[0m\n\u001b[0;32m   1118\u001b[0m \u001b[1;33m\u001b[0m\u001b[0m\n\u001b[1;32m-> 1119\u001b[1;33m         \u001b[0mself\u001b[0m\u001b[1;33m.\u001b[0m\u001b[0m_reader\u001b[0m \u001b[1;33m=\u001b[0m \u001b[0m_parser\u001b[0m\u001b[1;33m.\u001b[0m\u001b[0mTextReader\u001b[0m\u001b[1;33m(\u001b[0m\u001b[0msrc\u001b[0m\u001b[1;33m,\u001b[0m \u001b[1;33m**\u001b[0m\u001b[0mkwds\u001b[0m\u001b[1;33m)\u001b[0m\u001b[1;33m\u001b[0m\u001b[0m\n\u001b[0m\u001b[0;32m   1120\u001b[0m \u001b[1;33m\u001b[0m\u001b[0m\n\u001b[0;32m   1121\u001b[0m         \u001b[1;31m# XXX\u001b[0m\u001b[1;33m\u001b[0m\u001b[1;33m\u001b[0m\u001b[0m\n",
      "\u001b[1;32mpandas/parser.pyx\u001b[0m in \u001b[0;36mpandas.parser.TextReader.__cinit__ (pandas/parser.c:3246)\u001b[1;34m()\u001b[0m\n",
      "\u001b[1;32mpandas/parser.pyx\u001b[0m in \u001b[0;36mpandas.parser.TextReader._setup_parser_source (pandas/parser.c:6111)\u001b[1;34m()\u001b[0m\n",
      "\u001b[1;31mOSError\u001b[0m: File b'/home/mragy/AkamaiAcademy/project/data/phase2/who.dat' does not exist"
     ]
    }
   ],
   "source": [
    "who = pd.read_csv(\"/home/mragy/AkamaiAcademy/project/data/phase2/who.dat\", sep=\" \",names=[\"name\", 'terminal','month', 'date', 'total_time', 'ip'])"
   ]
  },
  {
   "cell_type": "code",
   "execution_count": null,
   "metadata": {
    "collapsed": true
   },
   "outputs": [],
   "source": [
    "# corrects replacement of \":\" to \".\" in tr command\n",
    "\n",
    "who['total_time']=who['total_time'].apply(lambda x : (np.floor(x) + (x - np.floor(x))*(5/3))) "
   ]
  },
  {
   "cell_type": "code",
   "execution_count": null,
   "metadata": {
    "collapsed": false
   },
   "outputs": [],
   "source": [
    "who.describe()"
   ]
  },
  {
   "cell_type": "code",
   "execution_count": null,
   "metadata": {
    "collapsed": false
   },
   "outputs": [],
   "source": [
    "who.groupby('name').total_time.max()"
   ]
  },
  {
   "cell_type": "code",
   "execution_count": null,
   "metadata": {
    "collapsed": true
   },
   "outputs": [],
   "source": [
    "fig = plt.figure()\n",
    "ax = fig.add_subplot(1,1,1)\n",
    "\n",
    "ax.set_title('Current Users\\' Time vs Historical Time')\n",
    "#ax.set_xlabel('Users')\n",
    "#ax.set_ylabel('Time in Hours')\n",
    "#ax.plot(data.total_time)\n",
    "#ax.plot(who.total_time, color='r')\n",
    "# this plot is confusing. change to boxplot\n",
    "\n",
    "ax.set_xlabel('Time in Hours')\n",
    "data['total_time'].plot(kind='box', color='b', label='Historical')\n",
    "who['total_time'].plot(kind='box', color='r',label='Current')\n",
    "#ax.legend()\n",
    "\n",
    "#plt.show()\n",
    "#save to file instead for longterm\n",
    "plt.savefig('/home/mragy/AkamaiAcademy/project/graphs/box_current_vs_historical.pdf')"
   ]
  },
  {
   "cell_type": "code",
   "execution_count": null,
   "metadata": {
    "collapsed": false,
    "scrolled": true
   },
   "outputs": [],
   "source": [
    "# what do I actually want to visualize here? \n",
    "# each use's individual current aggregate time against the historical spread\n",
    "data.groupby('name').total_time.sum()"
   ]
  },
  {
   "cell_type": "markdown",
   "metadata": {
    "collapsed": true
   },
   "source": [
    "## End Phase2: Entering Phase2a\n"
   ]
  },
  {
   "cell_type": "code",
   "execution_count": 12,
   "metadata": {
    "collapsed": true
   },
   "outputs": [],
   "source": [
    "import pandas as pd\n",
    "import numpy as np\n",
    "import matplotlib .pyplot as plt"
   ]
  },
  {
   "cell_type": "code",
   "execution_count": 13,
   "metadata": {
    "collapsed": true
   },
   "outputs": [],
   "source": [
    "data = pd.read_csv(\"/home/mragy/AkamaiAcademy/project/phase2/data/l9.dat\", sep=\" \",\n",
    "                   names=[\"name\", 'terminal','ip', 'DOW','month', 'date', 'total_time'])"
   ]
  },
  {
   "cell_type": "code",
   "execution_count": 14,
   "metadata": {
    "collapsed": false
   },
   "outputs": [],
   "source": [
    "data['total_time']=data['total_time'].apply(lambda x : (np.floor(x)  + (x - np.floor(x))*(5/3)))"
   ]
  },
  {
   "cell_type": "code",
   "execution_count": 15,
   "metadata": {
    "collapsed": false
   },
   "outputs": [],
   "source": [
    "who = pd.read_csv(\"/home/mragy/AkamaiAcademy/project/phase2/data/who.dat\", sep=\" \",\n",
    "                  names=[\"name\", 'terminal','month', 'date', 'total_time', 'ip'])"
   ]
  },
  {
   "cell_type": "code",
   "execution_count": 16,
   "metadata": {
    "collapsed": false
   },
   "outputs": [
    {
     "data": {
      "text/plain": [
       "0    7.52\n",
       "1    8.17\n",
       "2    8.09\n",
       "3    7.58\n",
       "4    8.03\n",
       "5    8.04\n",
       "Name: total_time, dtype: float64"
      ]
     },
     "execution_count": 16,
     "metadata": {},
     "output_type": "execute_result"
    }
   ],
   "source": [
    "who['total_time']"
   ]
  },
  {
   "cell_type": "code",
   "execution_count": 17,
   "metadata": {
    "collapsed": false
   },
   "outputs": [],
   "source": [
    "who['total_time']=who['total_time'].apply(lambda x : (np.floor(x) + (x - np.floor(x))*(5/3))) "
   ]
  },
  {
   "cell_type": "code",
   "execution_count": 34,
   "metadata": {
    "collapsed": false
   },
   "outputs": [
    {
     "data": {
      "text/plain": [
       "0    7.866667\n",
       "1    8.283333\n",
       "2    8.150000\n",
       "3    7.966667\n",
       "4    8.050000\n",
       "5    8.066667\n",
       "Name: total_time, dtype: float64"
      ]
     },
     "execution_count": 34,
     "metadata": {},
     "output_type": "execute_result"
    }
   ],
   "source": [
    "who['total_time']"
   ]
  },
  {
   "cell_type": "markdown",
   "metadata": {},
   "source": [
    "# # Time Series Exploration\n",
    "may need to import seaborn"
   ]
  },
  {
   "cell_type": "code",
   "execution_count": 120,
   "metadata": {
    "collapsed": false
   },
   "outputs": [
    {
     "ename": "ImportError",
     "evalue": "No module named 'seaborn'",
     "output_type": "error",
     "traceback": [
      "\u001b[1;31m---------------------------------------------------------------------------\u001b[0m",
      "\u001b[1;31mImportError\u001b[0m                               Traceback (most recent call last)",
      "\u001b[1;32m<ipython-input-120-ed9806ce3570>\u001b[0m in \u001b[0;36m<module>\u001b[1;34m()\u001b[0m\n\u001b[1;32m----> 1\u001b[1;33m \u001b[1;32mimport\u001b[0m \u001b[0mseaborn\u001b[0m \u001b[1;32mas\u001b[0m \u001b[0msns\u001b[0m\u001b[1;33m\u001b[0m\u001b[0m\n\u001b[0m",
      "\u001b[1;31mImportError\u001b[0m: No module named 'seaborn'"
     ]
    }
   ],
   "source": [
    "import seaborn as sns"
   ]
  },
  {
   "cell_type": "code",
   "execution_count": 19,
   "metadata": {
    "collapsed": true
   },
   "outputs": [],
   "source": [
    "time = data.sort_values(by='date')"
   ]
  },
  {
   "cell_type": "code",
   "execution_count": 20,
   "metadata": {
    "collapsed": false
   },
   "outputs": [],
   "source": [
    "who_time = who.sort_values(by='date')"
   ]
  },
  {
   "cell_type": "code",
   "execution_count": 21,
   "metadata": {
    "collapsed": false
   },
   "outputs": [],
   "source": [
    "fig = plt.figure()\n",
    "\n",
    "ax1=fig.add_subplot(2,2,1)\n",
    "ax2=fig.add_subplot(2,2,2)\n",
    "ax3=fig.add_subplot(2,2,3)\n",
    "ax4=fig.add_subplot(2,2,4)\n",
    "\n",
    "ax1.set_title(\"Historical Total Time\")\n",
    "ax1.set_xlabel('total_time')\n",
    "ax1.plot(time.total_time)\n",
    "\n",
    "ax2.set_title('Time by Index')\n",
    "ax2.set_xlabel('name')\n",
    "ax2.set_ylabel('Total Time CumSum')\n",
    "ax2.plot(data.groupby('name').total_time.cumsum())\n",
    "\n",
    "ax3.set_title('Total Time')\n",
    "ax3.set_xlabel('total_time')\n",
    "ax3.hist(time.total_time, bins=10)\n",
    "\n",
    "ax4.set_title(\"Total TIme vs Date\")\n",
    "ax4.set_xlabel('date')\n",
    "ax4.set_ylabel('total time')\n",
    "ax4.scatter(time.date, time.total_time)\n",
    "ax4.scatter(who_time.date, who_time.total_time, color='r')\n",
    "plt.show()"
   ]
  },
  {
   "cell_type": "code",
   "execution_count": 22,
   "metadata": {
    "collapsed": false
   },
   "outputs": [],
   "source": [
    "fig = plt.figure()\n",
    "\n",
    "ax1=fig.add_subplot(2,2,1)\n",
    "ax2=fig.add_subplot(2,2,2)\n",
    "ax3=fig.add_subplot(2,2,3)\n",
    "ax4=fig.add_subplot(2,2,4)\n",
    "\n",
    "ax1.set_title(\"Historical Total Time\")\n",
    "ax1.set_xlabel('total_time')\n",
    "ax1.plot(time.total_time)\n",
    "\n",
    "ax2.set_title('Time by Index')\n",
    "ax2.set_xlabel('name')\n",
    "ax2.set_ylabel('Total Time CumSum')\n",
    "ax2.plot(data.groupby('name').total_time.cumsum())\n",
    "\n",
    "ax3.set_title('Total Time')\n",
    "ax3.set_xlabel('total_time')\n",
    "ax3.hist(data.total_time, bins=10)\n",
    "\n",
    "ax4.set_title(\"Total TIme vs Date\")\n",
    "ax4.set_xlabel('date')\n",
    "ax4.set_ylabel('total time')\n",
    "ax4.scatter(data.date, data.total_time)\n",
    "ax4.scatter(who_time.date, who_time.total_time, color='r')\n",
    "plt.show()"
   ]
  },
  {
   "cell_type": "code",
   "execution_count": null,
   "metadata": {
    "collapsed": true
   },
   "outputs": [],
   "source": []
  }
 ],
 "metadata": {
  "kernelspec": {
   "display_name": "Python 3",
   "language": "python",
   "name": "python3"
  },
  "language_info": {
   "codemirror_mode": {
    "name": "ipython",
    "version": 3
   },
   "file_extension": ".py",
   "mimetype": "text/x-python",
   "name": "python",
   "nbconvert_exporter": "python",
   "pygments_lexer": "ipython3",
   "version": "3.5.1"
  }
 },
 "nbformat": 4,
 "nbformat_minor": 0
}
